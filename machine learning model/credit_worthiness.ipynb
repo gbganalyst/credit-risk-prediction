{
 "cells": [
  {
   "cell_type": "code",
   "execution_count": 1,
   "id": "65ad9293-02f1-495f-97e7-4a7a110be56f",
   "metadata": {},
   "outputs": [],
   "source": [
    "#importing neccessarily libraries \n",
    "import numpy as np #for mathematical operations\n",
    "import pandas as pd #for loading dataset\n",
    "import matplotlib.pyplot as plt #data visualization\n",
    "import matplotlib.image as mpimg #loading images and saving plot as images \n",
    "from plotly.offline import init_notebook_mode\n",
    "import seaborn as sns\n",
    "import plotly.express as px"
   ]
  },
  {
   "cell_type": "code",
   "execution_count": 2,
   "id": "52e26747-8162-4e22-ae39-d95c7aad9f3c",
   "metadata": {},
   "outputs": [],
   "source": [
    "train_perf = pd.read_csv('../data/trainperf.csv')\n",
    "train_demo = pd.read_csv('../data/traindemographics.csv')\n",
    "test_perf = pd.read_csv('../data/testperf.csv')\n",
    "test_demo = pd.read_csv('../data/testdemographics.csv')"
   ]
  },
  {
   "cell_type": "code",
   "execution_count": 3,
   "id": "ecc60863-81f6-46ce-81d6-81fa78372c2c",
   "metadata": {},
   "outputs": [
    {
     "data": {
      "text/html": [
       "<div>\n",
       "<style scoped>\n",
       "    .dataframe tbody tr th:only-of-type {\n",
       "        vertical-align: middle;\n",
       "    }\n",
       "\n",
       "    .dataframe tbody tr th {\n",
       "        vertical-align: top;\n",
       "    }\n",
       "\n",
       "    .dataframe thead th {\n",
       "        text-align: right;\n",
       "    }\n",
       "</style>\n",
       "<table border=\"1\" class=\"dataframe\">\n",
       "  <thead>\n",
       "    <tr style=\"text-align: right;\">\n",
       "      <th></th>\n",
       "      <th>customerid</th>\n",
       "      <th>systemloanid</th>\n",
       "      <th>loannumber</th>\n",
       "      <th>approveddate</th>\n",
       "      <th>creationdate</th>\n",
       "      <th>loanamount</th>\n",
       "      <th>totaldue</th>\n",
       "      <th>termdays</th>\n",
       "      <th>referredby</th>\n",
       "      <th>good_bad_flag</th>\n",
       "    </tr>\n",
       "  </thead>\n",
       "  <tbody>\n",
       "    <tr>\n",
       "      <th>0</th>\n",
       "      <td>8a2a81a74ce8c05d014cfb32a0da1049</td>\n",
       "      <td>301994762</td>\n",
       "      <td>12</td>\n",
       "      <td>2017-07-25 08:22:56.000000</td>\n",
       "      <td>2017-07-25 07:22:47.000000</td>\n",
       "      <td>30000.0</td>\n",
       "      <td>34500.0</td>\n",
       "      <td>30</td>\n",
       "      <td>NaN</td>\n",
       "      <td>Good</td>\n",
       "    </tr>\n",
       "    <tr>\n",
       "      <th>1</th>\n",
       "      <td>8a85886e54beabf90154c0a29ae757c0</td>\n",
       "      <td>301965204</td>\n",
       "      <td>2</td>\n",
       "      <td>2017-07-05 17:04:41.000000</td>\n",
       "      <td>2017-07-05 16:04:18.000000</td>\n",
       "      <td>15000.0</td>\n",
       "      <td>17250.0</td>\n",
       "      <td>30</td>\n",
       "      <td>NaN</td>\n",
       "      <td>Good</td>\n",
       "    </tr>\n",
       "    <tr>\n",
       "      <th>2</th>\n",
       "      <td>8a8588f35438fe12015444567666018e</td>\n",
       "      <td>301966580</td>\n",
       "      <td>7</td>\n",
       "      <td>2017-07-06 14:52:57.000000</td>\n",
       "      <td>2017-07-06 13:52:51.000000</td>\n",
       "      <td>20000.0</td>\n",
       "      <td>22250.0</td>\n",
       "      <td>15</td>\n",
       "      <td>NaN</td>\n",
       "      <td>Good</td>\n",
       "    </tr>\n",
       "    <tr>\n",
       "      <th>3</th>\n",
       "      <td>8a85890754145ace015429211b513e16</td>\n",
       "      <td>301999343</td>\n",
       "      <td>3</td>\n",
       "      <td>2017-07-27 19:00:41.000000</td>\n",
       "      <td>2017-07-27 18:00:35.000000</td>\n",
       "      <td>10000.0</td>\n",
       "      <td>11500.0</td>\n",
       "      <td>15</td>\n",
       "      <td>NaN</td>\n",
       "      <td>Good</td>\n",
       "    </tr>\n",
       "    <tr>\n",
       "      <th>4</th>\n",
       "      <td>8a858970548359cc0154883481981866</td>\n",
       "      <td>301962360</td>\n",
       "      <td>9</td>\n",
       "      <td>2017-07-03 23:42:45.000000</td>\n",
       "      <td>2017-07-03 22:42:39.000000</td>\n",
       "      <td>40000.0</td>\n",
       "      <td>44000.0</td>\n",
       "      <td>30</td>\n",
       "      <td>NaN</td>\n",
       "      <td>Good</td>\n",
       "    </tr>\n",
       "  </tbody>\n",
       "</table>\n",
       "</div>"
      ],
      "text/plain": [
       "                         customerid  systemloanid  loannumber  \\\n",
       "0  8a2a81a74ce8c05d014cfb32a0da1049     301994762          12   \n",
       "1  8a85886e54beabf90154c0a29ae757c0     301965204           2   \n",
       "2  8a8588f35438fe12015444567666018e     301966580           7   \n",
       "3  8a85890754145ace015429211b513e16     301999343           3   \n",
       "4  8a858970548359cc0154883481981866     301962360           9   \n",
       "\n",
       "                 approveddate                creationdate  loanamount  \\\n",
       "0  2017-07-25 08:22:56.000000  2017-07-25 07:22:47.000000     30000.0   \n",
       "1  2017-07-05 17:04:41.000000  2017-07-05 16:04:18.000000     15000.0   \n",
       "2  2017-07-06 14:52:57.000000  2017-07-06 13:52:51.000000     20000.0   \n",
       "3  2017-07-27 19:00:41.000000  2017-07-27 18:00:35.000000     10000.0   \n",
       "4  2017-07-03 23:42:45.000000  2017-07-03 22:42:39.000000     40000.0   \n",
       "\n",
       "   totaldue  termdays referredby good_bad_flag  \n",
       "0   34500.0        30        NaN          Good  \n",
       "1   17250.0        30        NaN          Good  \n",
       "2   22250.0        15        NaN          Good  \n",
       "3   11500.0        15        NaN          Good  \n",
       "4   44000.0        30        NaN          Good  "
      ]
     },
     "execution_count": 3,
     "metadata": {},
     "output_type": "execute_result"
    }
   ],
   "source": [
    "train_perf.head()"
   ]
  },
  {
   "cell_type": "code",
   "execution_count": 4,
   "id": "7cec029e-6b65-4488-a973-92c69e7e2171",
   "metadata": {},
   "outputs": [
    {
     "data": {
      "text/plain": [
       "8a858fc55b2548dd015b286e452c678c    8\n",
       "8a858eeb5bb559d3015bb57fa13f10de    3\n",
       "8a858f965bb63a25015bc2ddf2577416    3\n",
       "8a858e125b391784015b395fa56243e6    3\n",
       "8a858e335b806e4d015b807c181d101f    2\n",
       "                                   ..\n",
       "8a858fd35b5dfefb015b5f002aa050a3    1\n",
       "8a858e3d5c3b5122015c43f776bd4a3a    1\n",
       "8a858f7a5b39a003015b39ca67ab2efb    1\n",
       "8a858fa359d61dae0159d698bf503d29    1\n",
       "8a858eda5c8863ff015c9dead65807bb    1\n",
       "Name: referredby, Length: 521, dtype: int64"
      ]
     },
     "execution_count": 4,
     "metadata": {},
     "output_type": "execute_result"
    }
   ],
   "source": [
    "train_perf['referredby'].value_counts()"
   ]
  },
  {
   "cell_type": "code",
   "execution_count": 5,
   "id": "d6087088-d444-41fc-b29d-32c6e0a560ab",
   "metadata": {},
   "outputs": [
    {
     "data": {
      "text/html": [
       "<div>\n",
       "<style scoped>\n",
       "    .dataframe tbody tr th:only-of-type {\n",
       "        vertical-align: middle;\n",
       "    }\n",
       "\n",
       "    .dataframe tbody tr th {\n",
       "        vertical-align: top;\n",
       "    }\n",
       "\n",
       "    .dataframe thead th {\n",
       "        text-align: right;\n",
       "    }\n",
       "</style>\n",
       "<table border=\"1\" class=\"dataframe\">\n",
       "  <thead>\n",
       "    <tr style=\"text-align: right;\">\n",
       "      <th></th>\n",
       "      <th>customerid</th>\n",
       "      <th>birthdate</th>\n",
       "      <th>bank_account_type</th>\n",
       "      <th>longitude_gps</th>\n",
       "      <th>latitude_gps</th>\n",
       "      <th>bank_name_clients</th>\n",
       "      <th>bank_branch_clients</th>\n",
       "      <th>employment_status_clients</th>\n",
       "      <th>level_of_education_clients</th>\n",
       "    </tr>\n",
       "  </thead>\n",
       "  <tbody>\n",
       "    <tr>\n",
       "      <th>0</th>\n",
       "      <td>8a858e135cb22031015cbafc76964ebd</td>\n",
       "      <td>1973-10-10 00:00:00.000000</td>\n",
       "      <td>Savings</td>\n",
       "      <td>3.319219</td>\n",
       "      <td>6.528604</td>\n",
       "      <td>GT Bank</td>\n",
       "      <td>NaN</td>\n",
       "      <td>NaN</td>\n",
       "      <td>NaN</td>\n",
       "    </tr>\n",
       "    <tr>\n",
       "      <th>1</th>\n",
       "      <td>8a858e275c7ea5ec015c82482d7c3996</td>\n",
       "      <td>1986-01-21 00:00:00.000000</td>\n",
       "      <td>Savings</td>\n",
       "      <td>3.325598</td>\n",
       "      <td>7.119403</td>\n",
       "      <td>Sterling Bank</td>\n",
       "      <td>NaN</td>\n",
       "      <td>Permanent</td>\n",
       "      <td>NaN</td>\n",
       "    </tr>\n",
       "    <tr>\n",
       "      <th>2</th>\n",
       "      <td>8a858e5b5bd99460015bdc95cd485634</td>\n",
       "      <td>1987-04-01 00:00:00.000000</td>\n",
       "      <td>Savings</td>\n",
       "      <td>5.746100</td>\n",
       "      <td>5.563174</td>\n",
       "      <td>Fidelity Bank</td>\n",
       "      <td>NaN</td>\n",
       "      <td>NaN</td>\n",
       "      <td>NaN</td>\n",
       "    </tr>\n",
       "    <tr>\n",
       "      <th>3</th>\n",
       "      <td>8a858efd5ca70688015cabd1f1e94b55</td>\n",
       "      <td>1991-07-19 00:00:00.000000</td>\n",
       "      <td>Savings</td>\n",
       "      <td>3.362850</td>\n",
       "      <td>6.642485</td>\n",
       "      <td>GT Bank</td>\n",
       "      <td>NaN</td>\n",
       "      <td>Permanent</td>\n",
       "      <td>NaN</td>\n",
       "    </tr>\n",
       "    <tr>\n",
       "      <th>4</th>\n",
       "      <td>8a858e785acd3412015acd48f4920d04</td>\n",
       "      <td>1982-11-22 00:00:00.000000</td>\n",
       "      <td>Savings</td>\n",
       "      <td>8.455332</td>\n",
       "      <td>11.971410</td>\n",
       "      <td>GT Bank</td>\n",
       "      <td>NaN</td>\n",
       "      <td>Permanent</td>\n",
       "      <td>NaN</td>\n",
       "    </tr>\n",
       "  </tbody>\n",
       "</table>\n",
       "</div>"
      ],
      "text/plain": [
       "                         customerid                   birthdate  \\\n",
       "0  8a858e135cb22031015cbafc76964ebd  1973-10-10 00:00:00.000000   \n",
       "1  8a858e275c7ea5ec015c82482d7c3996  1986-01-21 00:00:00.000000   \n",
       "2  8a858e5b5bd99460015bdc95cd485634  1987-04-01 00:00:00.000000   \n",
       "3  8a858efd5ca70688015cabd1f1e94b55  1991-07-19 00:00:00.000000   \n",
       "4  8a858e785acd3412015acd48f4920d04  1982-11-22 00:00:00.000000   \n",
       "\n",
       "  bank_account_type  longitude_gps  latitude_gps bank_name_clients  \\\n",
       "0           Savings       3.319219      6.528604           GT Bank   \n",
       "1           Savings       3.325598      7.119403     Sterling Bank   \n",
       "2           Savings       5.746100      5.563174     Fidelity Bank   \n",
       "3           Savings       3.362850      6.642485           GT Bank   \n",
       "4           Savings       8.455332     11.971410           GT Bank   \n",
       "\n",
       "  bank_branch_clients employment_status_clients level_of_education_clients  \n",
       "0                 NaN                       NaN                        NaN  \n",
       "1                 NaN                 Permanent                        NaN  \n",
       "2                 NaN                       NaN                        NaN  \n",
       "3                 NaN                 Permanent                        NaN  \n",
       "4                 NaN                 Permanent                        NaN  "
      ]
     },
     "execution_count": 5,
     "metadata": {},
     "output_type": "execute_result"
    }
   ],
   "source": [
    "train_demo.head()"
   ]
  },
  {
   "cell_type": "code",
   "execution_count": 6,
   "id": "8ad90fff-c3df-4a42-ae91-5f6adf52a386",
   "metadata": {},
   "outputs": [
    {
     "data": {
      "text/html": [
       "<div>\n",
       "<style scoped>\n",
       "    .dataframe tbody tr th:only-of-type {\n",
       "        vertical-align: middle;\n",
       "    }\n",
       "\n",
       "    .dataframe tbody tr th {\n",
       "        vertical-align: top;\n",
       "    }\n",
       "\n",
       "    .dataframe thead th {\n",
       "        text-align: right;\n",
       "    }\n",
       "</style>\n",
       "<table border=\"1\" class=\"dataframe\">\n",
       "  <thead>\n",
       "    <tr style=\"text-align: right;\">\n",
       "      <th></th>\n",
       "      <th>customerid</th>\n",
       "      <th>systemloanid</th>\n",
       "      <th>loannumber</th>\n",
       "      <th>approveddate</th>\n",
       "      <th>creationdate</th>\n",
       "      <th>loanamount</th>\n",
       "      <th>totaldue</th>\n",
       "      <th>termdays</th>\n",
       "      <th>referredby</th>\n",
       "    </tr>\n",
       "  </thead>\n",
       "  <tbody>\n",
       "    <tr>\n",
       "      <th>0</th>\n",
       "      <td>8a858899538ddb8e015390510b321f08</td>\n",
       "      <td>301998974</td>\n",
       "      <td>4</td>\n",
       "      <td>40:48.0</td>\n",
       "      <td>39:35.0</td>\n",
       "      <td>10000</td>\n",
       "      <td>12250.0</td>\n",
       "      <td>30</td>\n",
       "      <td>NaN</td>\n",
       "    </tr>\n",
       "    <tr>\n",
       "      <th>1</th>\n",
       "      <td>8a858959537a097401537a4e316e25f7</td>\n",
       "      <td>301963615</td>\n",
       "      <td>10</td>\n",
       "      <td>43:40.0</td>\n",
       "      <td>42:34.0</td>\n",
       "      <td>40000</td>\n",
       "      <td>44000.0</td>\n",
       "      <td>30</td>\n",
       "      <td>NaN</td>\n",
       "    </tr>\n",
       "    <tr>\n",
       "      <th>2</th>\n",
       "      <td>8a8589c253ace09b0153af6ba58f1f31</td>\n",
       "      <td>301982236</td>\n",
       "      <td>6</td>\n",
       "      <td>15:11.0</td>\n",
       "      <td>15:04.0</td>\n",
       "      <td>20000</td>\n",
       "      <td>24500.0</td>\n",
       "      <td>30</td>\n",
       "      <td>NaN</td>\n",
       "    </tr>\n",
       "    <tr>\n",
       "      <th>3</th>\n",
       "      <td>8a858e095aae82b7015aae86ca1e030b</td>\n",
       "      <td>301971730</td>\n",
       "      <td>8</td>\n",
       "      <td>00:54.0</td>\n",
       "      <td>00:49.0</td>\n",
       "      <td>30000</td>\n",
       "      <td>34500.0</td>\n",
       "      <td>30</td>\n",
       "      <td>NaN</td>\n",
       "    </tr>\n",
       "    <tr>\n",
       "      <th>4</th>\n",
       "      <td>8a858e225a28c713015a30db5c48383d</td>\n",
       "      <td>301959177</td>\n",
       "      <td>4</td>\n",
       "      <td>04:33.0</td>\n",
       "      <td>04:27.0</td>\n",
       "      <td>20000</td>\n",
       "      <td>24500.0</td>\n",
       "      <td>30</td>\n",
       "      <td>NaN</td>\n",
       "    </tr>\n",
       "  </tbody>\n",
       "</table>\n",
       "</div>"
      ],
      "text/plain": [
       "                         customerid  systemloanid  loannumber approveddate  \\\n",
       "0  8a858899538ddb8e015390510b321f08     301998974           4      40:48.0   \n",
       "1  8a858959537a097401537a4e316e25f7     301963615          10      43:40.0   \n",
       "2  8a8589c253ace09b0153af6ba58f1f31     301982236           6      15:11.0   \n",
       "3  8a858e095aae82b7015aae86ca1e030b     301971730           8      00:54.0   \n",
       "4  8a858e225a28c713015a30db5c48383d     301959177           4      04:33.0   \n",
       "\n",
       "  creationdate  loanamount  totaldue  termdays referredby  \n",
       "0      39:35.0       10000   12250.0        30        NaN  \n",
       "1      42:34.0       40000   44000.0        30        NaN  \n",
       "2      15:04.0       20000   24500.0        30        NaN  \n",
       "3      00:49.0       30000   34500.0        30        NaN  \n",
       "4      04:27.0       20000   24500.0        30        NaN  "
      ]
     },
     "execution_count": 6,
     "metadata": {},
     "output_type": "execute_result"
    }
   ],
   "source": [
    "test_perf.head()"
   ]
  },
  {
   "cell_type": "code",
   "execution_count": 7,
   "id": "f8a39d60-e15d-4ca6-8fb2-19a3ebe165f4",
   "metadata": {},
   "outputs": [
    {
     "data": {
      "text/html": [
       "<div>\n",
       "<style scoped>\n",
       "    .dataframe tbody tr th:only-of-type {\n",
       "        vertical-align: middle;\n",
       "    }\n",
       "\n",
       "    .dataframe tbody tr th {\n",
       "        vertical-align: top;\n",
       "    }\n",
       "\n",
       "    .dataframe thead th {\n",
       "        text-align: right;\n",
       "    }\n",
       "</style>\n",
       "<table border=\"1\" class=\"dataframe\">\n",
       "  <thead>\n",
       "    <tr style=\"text-align: right;\">\n",
       "      <th></th>\n",
       "      <th>customerid</th>\n",
       "      <th>birthdate</th>\n",
       "      <th>bank_account_type</th>\n",
       "      <th>longitude_gps</th>\n",
       "      <th>latitude_gps</th>\n",
       "      <th>bank_name_clients</th>\n",
       "      <th>bank_branch_clients</th>\n",
       "      <th>employment_status_clients</th>\n",
       "      <th>level_of_education_clients</th>\n",
       "    </tr>\n",
       "  </thead>\n",
       "  <tbody>\n",
       "    <tr>\n",
       "      <th>0</th>\n",
       "      <td>8a858f305c8dd672015c93b1db645db4</td>\n",
       "      <td>1976-08-28 00:00:00.000000</td>\n",
       "      <td>Savings</td>\n",
       "      <td>5.296628</td>\n",
       "      <td>7.593965</td>\n",
       "      <td>Heritage Bank</td>\n",
       "      <td>NaN</td>\n",
       "      <td>Permanent</td>\n",
       "      <td>NaN</td>\n",
       "    </tr>\n",
       "    <tr>\n",
       "      <th>1</th>\n",
       "      <td>8a858f085a477386015a47fb049e49ca</td>\n",
       "      <td>1978-06-23 00:00:00.000000</td>\n",
       "      <td>Savings</td>\n",
       "      <td>3.294513</td>\n",
       "      <td>6.596602</td>\n",
       "      <td>UBA</td>\n",
       "      <td>NaN</td>\n",
       "      <td>Permanent</td>\n",
       "      <td>NaN</td>\n",
       "    </tr>\n",
       "    <tr>\n",
       "      <th>2</th>\n",
       "      <td>8a858e6f5cd5e874015cd6f5634c39ad</td>\n",
       "      <td>1984-04-04 00:00:00.000000</td>\n",
       "      <td>Savings</td>\n",
       "      <td>8.501912</td>\n",
       "      <td>7.729364</td>\n",
       "      <td>First Bank</td>\n",
       "      <td>NaN</td>\n",
       "      <td>Permanent</td>\n",
       "      <td>NaN</td>\n",
       "    </tr>\n",
       "    <tr>\n",
       "      <th>3</th>\n",
       "      <td>8a858e9d5bfd7037015bfdab79f61305</td>\n",
       "      <td>1983-05-28 00:00:00.000000</td>\n",
       "      <td>Savings</td>\n",
       "      <td>3.318904</td>\n",
       "      <td>6.681595</td>\n",
       "      <td>UBA</td>\n",
       "      <td>NaN</td>\n",
       "      <td>Permanent</td>\n",
       "      <td>NaN</td>\n",
       "    </tr>\n",
       "    <tr>\n",
       "      <th>4</th>\n",
       "      <td>8a858fde56eb02280156eb6dafc128ac</td>\n",
       "      <td>1982-03-29 00:00:00.000000</td>\n",
       "      <td>Savings</td>\n",
       "      <td>6.354624</td>\n",
       "      <td>4.949031</td>\n",
       "      <td>First Bank</td>\n",
       "      <td>NaN</td>\n",
       "      <td>Self-Employed</td>\n",
       "      <td>NaN</td>\n",
       "    </tr>\n",
       "  </tbody>\n",
       "</table>\n",
       "</div>"
      ],
      "text/plain": [
       "                         customerid                   birthdate  \\\n",
       "0  8a858f305c8dd672015c93b1db645db4  1976-08-28 00:00:00.000000   \n",
       "1  8a858f085a477386015a47fb049e49ca  1978-06-23 00:00:00.000000   \n",
       "2  8a858e6f5cd5e874015cd6f5634c39ad  1984-04-04 00:00:00.000000   \n",
       "3  8a858e9d5bfd7037015bfdab79f61305  1983-05-28 00:00:00.000000   \n",
       "4  8a858fde56eb02280156eb6dafc128ac  1982-03-29 00:00:00.000000   \n",
       "\n",
       "  bank_account_type  longitude_gps  latitude_gps bank_name_clients  \\\n",
       "0           Savings       5.296628      7.593965     Heritage Bank   \n",
       "1           Savings       3.294513      6.596602               UBA   \n",
       "2           Savings       8.501912      7.729364        First Bank   \n",
       "3           Savings       3.318904      6.681595               UBA   \n",
       "4           Savings       6.354624      4.949031        First Bank   \n",
       "\n",
       "  bank_branch_clients employment_status_clients level_of_education_clients  \n",
       "0                 NaN                 Permanent                        NaN  \n",
       "1                 NaN                 Permanent                        NaN  \n",
       "2                 NaN                 Permanent                        NaN  \n",
       "3                 NaN                 Permanent                        NaN  \n",
       "4                 NaN             Self-Employed                        NaN  "
      ]
     },
     "execution_count": 7,
     "metadata": {},
     "output_type": "execute_result"
    }
   ],
   "source": [
    "test_demo.head()"
   ]
  },
  {
   "cell_type": "code",
   "execution_count": 8,
   "id": "c2da52e6-8910-4606-b7c4-853410406ea6",
   "metadata": {},
   "outputs": [],
   "source": [
    "train = train_perf.merge(right = train_demo, how = 'inner', on = 'customerid')\n",
    "test = test_perf.merge(right = test_demo, how = 'inner', on = 'customerid')"
   ]
  },
  {
   "cell_type": "code",
   "execution_count": 9,
   "id": "53cc379b-c16e-40a1-b27c-a58969beed4f",
   "metadata": {},
   "outputs": [
    {
     "data": {
      "text/plain": [
       "(3277, 18)"
      ]
     },
     "execution_count": 9,
     "metadata": {},
     "output_type": "execute_result"
    }
   ],
   "source": [
    "train.shape"
   ]
  },
  {
   "cell_type": "code",
   "execution_count": 10,
   "id": "235ff375-34a1-4913-b56d-04004efef4e0",
   "metadata": {},
   "outputs": [
    {
     "data": {
      "text/plain": [
       "Index(['customerid', 'systemloanid', 'loannumber', 'approveddate',\n",
       "       'creationdate', 'loanamount', 'totaldue', 'termdays', 'referredby',\n",
       "       'good_bad_flag', 'birthdate', 'bank_account_type', 'longitude_gps',\n",
       "       'latitude_gps', 'bank_name_clients', 'bank_branch_clients',\n",
       "       'employment_status_clients', 'level_of_education_clients'],\n",
       "      dtype='object')"
      ]
     },
     "execution_count": 10,
     "metadata": {},
     "output_type": "execute_result"
    }
   ],
   "source": [
    "train.columns"
   ]
  },
  {
   "cell_type": "code",
   "execution_count": 11,
   "id": "29ecb240-6842-4340-b39b-6f9a543a1e5f",
   "metadata": {},
   "outputs": [
    {
     "data": {
      "text/html": [
       "<div>\n",
       "<style scoped>\n",
       "    .dataframe tbody tr th:only-of-type {\n",
       "        vertical-align: middle;\n",
       "    }\n",
       "\n",
       "    .dataframe tbody tr th {\n",
       "        vertical-align: top;\n",
       "    }\n",
       "\n",
       "    .dataframe thead th {\n",
       "        text-align: right;\n",
       "    }\n",
       "</style>\n",
       "<table border=\"1\" class=\"dataframe\">\n",
       "  <thead>\n",
       "    <tr style=\"text-align: right;\">\n",
       "      <th></th>\n",
       "      <th>customerid</th>\n",
       "      <th>systemloanid</th>\n",
       "      <th>loannumber</th>\n",
       "      <th>approveddate</th>\n",
       "      <th>creationdate</th>\n",
       "      <th>loanamount</th>\n",
       "      <th>totaldue</th>\n",
       "      <th>termdays</th>\n",
       "      <th>referredby</th>\n",
       "      <th>birthdate</th>\n",
       "      <th>bank_account_type</th>\n",
       "      <th>longitude_gps</th>\n",
       "      <th>latitude_gps</th>\n",
       "      <th>bank_name_clients</th>\n",
       "      <th>bank_branch_clients</th>\n",
       "      <th>employment_status_clients</th>\n",
       "      <th>level_of_education_clients</th>\n",
       "    </tr>\n",
       "  </thead>\n",
       "  <tbody>\n",
       "    <tr>\n",
       "      <th>0</th>\n",
       "      <td>8a8589c253ace09b0153af6ba58f1f31</td>\n",
       "      <td>301982236</td>\n",
       "      <td>6</td>\n",
       "      <td>15:11.0</td>\n",
       "      <td>15:04.0</td>\n",
       "      <td>20000</td>\n",
       "      <td>24500.0</td>\n",
       "      <td>30</td>\n",
       "      <td>NaN</td>\n",
       "      <td>1981-09-05 00:00:00.000000</td>\n",
       "      <td>Savings</td>\n",
       "      <td>3.227945</td>\n",
       "      <td>6.586668</td>\n",
       "      <td>UBA</td>\n",
       "      <td>NaN</td>\n",
       "      <td>Permanent</td>\n",
       "      <td>NaN</td>\n",
       "    </tr>\n",
       "    <tr>\n",
       "      <th>1</th>\n",
       "      <td>8a858e225a28c713015a30db5c48383d</td>\n",
       "      <td>301959177</td>\n",
       "      <td>4</td>\n",
       "      <td>04:33.0</td>\n",
       "      <td>04:27.0</td>\n",
       "      <td>20000</td>\n",
       "      <td>24500.0</td>\n",
       "      <td>30</td>\n",
       "      <td>NaN</td>\n",
       "      <td>1975-08-25 00:00:00.000000</td>\n",
       "      <td>Savings</td>\n",
       "      <td>5.248368</td>\n",
       "      <td>13.059864</td>\n",
       "      <td>UBA</td>\n",
       "      <td>NaN</td>\n",
       "      <td>Permanent</td>\n",
       "      <td>NaN</td>\n",
       "    </tr>\n",
       "    <tr>\n",
       "      <th>2</th>\n",
       "      <td>8a858e675c3fe0a1015c44ba8a037fee</td>\n",
       "      <td>301987980</td>\n",
       "      <td>2</td>\n",
       "      <td>14:28.0</td>\n",
       "      <td>14:20.0</td>\n",
       "      <td>10000</td>\n",
       "      <td>11500.0</td>\n",
       "      <td>15</td>\n",
       "      <td>NaN</td>\n",
       "      <td>1994-04-26 00:00:00.000000</td>\n",
       "      <td>Savings</td>\n",
       "      <td>5.288827</td>\n",
       "      <td>7.604053</td>\n",
       "      <td>GT Bank</td>\n",
       "      <td>NaN</td>\n",
       "      <td>Permanent</td>\n",
       "      <td>NaN</td>\n",
       "    </tr>\n",
       "    <tr>\n",
       "      <th>3</th>\n",
       "      <td>8a858ec95afc0922015b0edc17e34984</td>\n",
       "      <td>301965287</td>\n",
       "      <td>4</td>\n",
       "      <td>48:41.0</td>\n",
       "      <td>48:26.0</td>\n",
       "      <td>20000</td>\n",
       "      <td>24500.0</td>\n",
       "      <td>30</td>\n",
       "      <td>NaN</td>\n",
       "      <td>1982-04-15 00:00:00.000000</td>\n",
       "      <td>Savings</td>\n",
       "      <td>3.339835</td>\n",
       "      <td>7.118107</td>\n",
       "      <td>GT Bank</td>\n",
       "      <td>NaN</td>\n",
       "      <td>Permanent</td>\n",
       "      <td>NaN</td>\n",
       "    </tr>\n",
       "    <tr>\n",
       "      <th>4</th>\n",
       "      <td>8a858f5b5bee1b11015bf1b4ffea5abb</td>\n",
       "      <td>301981908</td>\n",
       "      <td>3</td>\n",
       "      <td>37:48.0</td>\n",
       "      <td>37:41.0</td>\n",
       "      <td>10000</td>\n",
       "      <td>11500.0</td>\n",
       "      <td>15</td>\n",
       "      <td>NaN</td>\n",
       "      <td>1989-05-13 00:00:00.000000</td>\n",
       "      <td>Savings</td>\n",
       "      <td>3.371619</td>\n",
       "      <td>6.605104</td>\n",
       "      <td>GT Bank</td>\n",
       "      <td>NaN</td>\n",
       "      <td>Permanent</td>\n",
       "      <td>NaN</td>\n",
       "    </tr>\n",
       "  </tbody>\n",
       "</table>\n",
       "</div>"
      ],
      "text/plain": [
       "                         customerid  systemloanid  loannumber approveddate  \\\n",
       "0  8a8589c253ace09b0153af6ba58f1f31     301982236           6      15:11.0   \n",
       "1  8a858e225a28c713015a30db5c48383d     301959177           4      04:33.0   \n",
       "2  8a858e675c3fe0a1015c44ba8a037fee     301987980           2      14:28.0   \n",
       "3  8a858ec95afc0922015b0edc17e34984     301965287           4      48:41.0   \n",
       "4  8a858f5b5bee1b11015bf1b4ffea5abb     301981908           3      37:48.0   \n",
       "\n",
       "  creationdate  loanamount  totaldue  termdays referredby  \\\n",
       "0      15:04.0       20000   24500.0        30        NaN   \n",
       "1      04:27.0       20000   24500.0        30        NaN   \n",
       "2      14:20.0       10000   11500.0        15        NaN   \n",
       "3      48:26.0       20000   24500.0        30        NaN   \n",
       "4      37:41.0       10000   11500.0        15        NaN   \n",
       "\n",
       "                    birthdate bank_account_type  longitude_gps  latitude_gps  \\\n",
       "0  1981-09-05 00:00:00.000000           Savings       3.227945      6.586668   \n",
       "1  1975-08-25 00:00:00.000000           Savings       5.248368     13.059864   \n",
       "2  1994-04-26 00:00:00.000000           Savings       5.288827      7.604053   \n",
       "3  1982-04-15 00:00:00.000000           Savings       3.339835      7.118107   \n",
       "4  1989-05-13 00:00:00.000000           Savings       3.371619      6.605104   \n",
       "\n",
       "  bank_name_clients bank_branch_clients employment_status_clients  \\\n",
       "0               UBA                 NaN                 Permanent   \n",
       "1               UBA                 NaN                 Permanent   \n",
       "2           GT Bank                 NaN                 Permanent   \n",
       "3           GT Bank                 NaN                 Permanent   \n",
       "4           GT Bank                 NaN                 Permanent   \n",
       "\n",
       "  level_of_education_clients  \n",
       "0                        NaN  \n",
       "1                        NaN  \n",
       "2                        NaN  \n",
       "3                        NaN  \n",
       "4                        NaN  "
      ]
     },
     "execution_count": 11,
     "metadata": {},
     "output_type": "execute_result"
    }
   ],
   "source": [
    "test.head()"
   ]
  },
  {
   "cell_type": "code",
   "execution_count": 12,
   "id": "7849c85b-c4fc-4fab-8de8-c9b3028d5db2",
   "metadata": {},
   "outputs": [],
   "source": [
    "#sorted the df with order_item_id and dropped duplicate ids \n",
    "train = train.sort_values(by = 'customerid', ascending = False).drop_duplicates('customerid')"
   ]
  },
  {
   "cell_type": "code",
   "execution_count": 13,
   "id": "147e6b4d-df94-46ee-b230-ee65f3b5bf13",
   "metadata": {},
   "outputs": [
    {
     "data": {
      "text/plain": [
       "Index(['customerid', 'systemloanid', 'loannumber', 'approveddate',\n",
       "       'creationdate', 'loanamount', 'totaldue', 'termdays', 'referredby',\n",
       "       'good_bad_flag', 'birthdate', 'bank_account_type', 'longitude_gps',\n",
       "       'latitude_gps', 'bank_name_clients', 'bank_branch_clients',\n",
       "       'employment_status_clients', 'level_of_education_clients'],\n",
       "      dtype='object')"
      ]
     },
     "execution_count": 13,
     "metadata": {},
     "output_type": "execute_result"
    }
   ],
   "source": [
    "train.columns"
   ]
  },
  {
   "cell_type": "code",
   "execution_count": 14,
   "id": "16e92bea-4c42-4df4-b6c1-66f183a53a53",
   "metadata": {},
   "outputs": [
    {
     "data": {
      "text/plain": [
       "Good    2556\n",
       "Bad      713\n",
       "Name: good_bad_flag, dtype: int64"
      ]
     },
     "execution_count": 14,
     "metadata": {},
     "output_type": "execute_result"
    }
   ],
   "source": [
    "train['good_bad_flag'].value_counts()\n",
    "#there is imbalance class "
   ]
  },
  {
   "cell_type": "code",
   "execution_count": 85,
   "id": "ffa87d05-5669-439b-9213-f12b00bc7bf8",
   "metadata": {},
   "outputs": [
    {
     "name": "stdout",
     "output_type": "stream",
     "text": [
      "<class 'pandas.core.frame.DataFrame'>\n",
      "Int64Index: 3269 entries, 583 to 333\n",
      "Data columns (total 18 columns):\n",
      " #   Column                      Non-Null Count  Dtype  \n",
      "---  ------                      --------------  -----  \n",
      " 0   customerid                  3269 non-null   object \n",
      " 1   systemloanid                3269 non-null   int64  \n",
      " 2   loannumber                  3269 non-null   int64  \n",
      " 3   approveddate                3269 non-null   object \n",
      " 4   creationdate                3269 non-null   object \n",
      " 5   loanamount                  3269 non-null   float64\n",
      " 6   totaldue                    3269 non-null   float64\n",
      " 7   termdays                    3269 non-null   int64  \n",
      " 8   referredby                  448 non-null    object \n",
      " 9   good_bad_flag               3269 non-null   object \n",
      " 10  birthdate                   3269 non-null   object \n",
      " 11  bank_account_type           3269 non-null   object \n",
      " 12  longitude_gps               3269 non-null   float64\n",
      " 13  latitude_gps                3269 non-null   float64\n",
      " 14  bank_name_clients           3269 non-null   object \n",
      " 15  bank_branch_clients         33 non-null     object \n",
      " 16  employment_status_clients   2776 non-null   object \n",
      " 17  level_of_education_clients  443 non-null    object \n",
      "dtypes: float64(4), int64(3), object(11)\n",
      "memory usage: 485.2+ KB\n"
     ]
    }
   ],
   "source": [
    "train.info()"
   ]
  },
  {
   "cell_type": "code",
   "execution_count": 86,
   "id": "5899af6c-9b2b-48bc-b9af-69d0d272fd8f",
   "metadata": {},
   "outputs": [
    {
     "data": {
      "text/plain": [
       "customerid                       0\n",
       "systemloanid                     0\n",
       "loannumber                       0\n",
       "approveddate                     0\n",
       "creationdate                     0\n",
       "loanamount                       0\n",
       "totaldue                         0\n",
       "termdays                         0\n",
       "referredby                    2821\n",
       "good_bad_flag                    0\n",
       "birthdate                        0\n",
       "bank_account_type                0\n",
       "longitude_gps                    0\n",
       "latitude_gps                     0\n",
       "bank_name_clients                0\n",
       "bank_branch_clients           3236\n",
       "employment_status_clients      493\n",
       "level_of_education_clients    2826\n",
       "dtype: int64"
      ]
     },
     "execution_count": 86,
     "metadata": {},
     "output_type": "execute_result"
    }
   ],
   "source": [
    "train.isnull().sum()"
   ]
  },
  {
   "cell_type": "code",
   "execution_count": 87,
   "id": "404a4d47-004d-4c95-8ab1-99c801072919",
   "metadata": {},
   "outputs": [
    {
     "data": {
      "text/html": [
       "<div>\n",
       "<style scoped>\n",
       "    .dataframe tbody tr th:only-of-type {\n",
       "        vertical-align: middle;\n",
       "    }\n",
       "\n",
       "    .dataframe tbody tr th {\n",
       "        vertical-align: top;\n",
       "    }\n",
       "\n",
       "    .dataframe thead th {\n",
       "        text-align: right;\n",
       "    }\n",
       "</style>\n",
       "<table border=\"1\" class=\"dataframe\">\n",
       "  <thead>\n",
       "    <tr style=\"text-align: right;\">\n",
       "      <th></th>\n",
       "      <th>customerid</th>\n",
       "      <th>systemloanid</th>\n",
       "      <th>loannumber</th>\n",
       "      <th>approveddate</th>\n",
       "      <th>creationdate</th>\n",
       "      <th>loanamount</th>\n",
       "      <th>totaldue</th>\n",
       "      <th>termdays</th>\n",
       "      <th>referredby</th>\n",
       "      <th>good_bad_flag</th>\n",
       "      <th>birthdate</th>\n",
       "      <th>bank_account_type</th>\n",
       "      <th>longitude_gps</th>\n",
       "      <th>latitude_gps</th>\n",
       "      <th>bank_name_clients</th>\n",
       "      <th>bank_branch_clients</th>\n",
       "      <th>employment_status_clients</th>\n",
       "      <th>level_of_education_clients</th>\n",
       "    </tr>\n",
       "  </thead>\n",
       "  <tbody>\n",
       "    <tr>\n",
       "      <th>583</th>\n",
       "      <td>8a858fff5c79144c015c7bdbfc086ce1</td>\n",
       "      <td>301967027</td>\n",
       "      <td>2</td>\n",
       "      <td>2017-07-06 19:42:39.000000</td>\n",
       "      <td>2017-07-06 18:42:34.000000</td>\n",
       "      <td>10000.0</td>\n",
       "      <td>13000.0</td>\n",
       "      <td>30</td>\n",
       "      <td>NaN</td>\n",
       "      <td>Good</td>\n",
       "      <td>1989-10-24 00:00:00.000000</td>\n",
       "      <td>Savings</td>\n",
       "      <td>7.224332</td>\n",
       "      <td>8.884774</td>\n",
       "      <td>FCMB</td>\n",
       "      <td>NaN</td>\n",
       "      <td>NaN</td>\n",
       "      <td>NaN</td>\n",
       "    </tr>\n",
       "    <tr>\n",
       "      <th>2713</th>\n",
       "      <td>8a858fff5a36fe68015a3b8dcb8a3843</td>\n",
       "      <td>301992274</td>\n",
       "      <td>7</td>\n",
       "      <td>2017-07-23 18:39:10.000000</td>\n",
       "      <td>2017-07-23 17:39:04.000000</td>\n",
       "      <td>30000.0</td>\n",
       "      <td>34500.0</td>\n",
       "      <td>30</td>\n",
       "      <td>NaN</td>\n",
       "      <td>Good</td>\n",
       "      <td>1989-08-30 00:00:00.000000</td>\n",
       "      <td>Savings</td>\n",
       "      <td>3.291219</td>\n",
       "      <td>6.559089</td>\n",
       "      <td>GT Bank</td>\n",
       "      <td>NaN</td>\n",
       "      <td>NaN</td>\n",
       "      <td>NaN</td>\n",
       "    </tr>\n",
       "    <tr>\n",
       "      <th>3116</th>\n",
       "      <td>8a858fff5a36fe68015a37f8550a02a2</td>\n",
       "      <td>301989105</td>\n",
       "      <td>7</td>\n",
       "      <td>2017-07-21 11:24:08.000000</td>\n",
       "      <td>2017-07-21 10:24:01.000000</td>\n",
       "      <td>30000.0</td>\n",
       "      <td>34500.0</td>\n",
       "      <td>30</td>\n",
       "      <td>NaN</td>\n",
       "      <td>Good</td>\n",
       "      <td>1987-09-10 00:00:00.000000</td>\n",
       "      <td>Savings</td>\n",
       "      <td>3.491421</td>\n",
       "      <td>6.439399</td>\n",
       "      <td>First Bank</td>\n",
       "      <td>NaN</td>\n",
       "      <td>Permanent</td>\n",
       "      <td>NaN</td>\n",
       "    </tr>\n",
       "    <tr>\n",
       "      <th>1342</th>\n",
       "      <td>8a858fff5a28d297015a33bc2e845305</td>\n",
       "      <td>301961209</td>\n",
       "      <td>7</td>\n",
       "      <td>2017-07-03 15:05:14.000000</td>\n",
       "      <td>2017-07-03 14:04:07.000000</td>\n",
       "      <td>30000.0</td>\n",
       "      <td>39000.0</td>\n",
       "      <td>60</td>\n",
       "      <td>NaN</td>\n",
       "      <td>Good</td>\n",
       "      <td>1980-09-04 00:00:00.000000</td>\n",
       "      <td>Savings</td>\n",
       "      <td>6.985570</td>\n",
       "      <td>4.806448</td>\n",
       "      <td>Union Bank</td>\n",
       "      <td>NaN</td>\n",
       "      <td>Permanent</td>\n",
       "      <td>NaN</td>\n",
       "    </tr>\n",
       "    <tr>\n",
       "      <th>773</th>\n",
       "      <td>8a858fff5a28d297015a338c644f5053</td>\n",
       "      <td>301966641</td>\n",
       "      <td>5</td>\n",
       "      <td>2017-07-06 15:26:22.000000</td>\n",
       "      <td>2017-07-06 14:26:13.000000</td>\n",
       "      <td>20000.0</td>\n",
       "      <td>24500.0</td>\n",
       "      <td>30</td>\n",
       "      <td>NaN</td>\n",
       "      <td>Good</td>\n",
       "      <td>1987-11-30 00:00:00.000000</td>\n",
       "      <td>Savings</td>\n",
       "      <td>7.498690</td>\n",
       "      <td>9.055047</td>\n",
       "      <td>UBA</td>\n",
       "      <td>NaN</td>\n",
       "      <td>Permanent</td>\n",
       "      <td>NaN</td>\n",
       "    </tr>\n",
       "  </tbody>\n",
       "</table>\n",
       "</div>"
      ],
      "text/plain": [
       "                            customerid  systemloanid  loannumber  \\\n",
       "583   8a858fff5c79144c015c7bdbfc086ce1     301967027           2   \n",
       "2713  8a858fff5a36fe68015a3b8dcb8a3843     301992274           7   \n",
       "3116  8a858fff5a36fe68015a37f8550a02a2     301989105           7   \n",
       "1342  8a858fff5a28d297015a33bc2e845305     301961209           7   \n",
       "773   8a858fff5a28d297015a338c644f5053     301966641           5   \n",
       "\n",
       "                    approveddate                creationdate  loanamount  \\\n",
       "583   2017-07-06 19:42:39.000000  2017-07-06 18:42:34.000000     10000.0   \n",
       "2713  2017-07-23 18:39:10.000000  2017-07-23 17:39:04.000000     30000.0   \n",
       "3116  2017-07-21 11:24:08.000000  2017-07-21 10:24:01.000000     30000.0   \n",
       "1342  2017-07-03 15:05:14.000000  2017-07-03 14:04:07.000000     30000.0   \n",
       "773   2017-07-06 15:26:22.000000  2017-07-06 14:26:13.000000     20000.0   \n",
       "\n",
       "      totaldue  termdays referredby good_bad_flag                   birthdate  \\\n",
       "583    13000.0        30        NaN          Good  1989-10-24 00:00:00.000000   \n",
       "2713   34500.0        30        NaN          Good  1989-08-30 00:00:00.000000   \n",
       "3116   34500.0        30        NaN          Good  1987-09-10 00:00:00.000000   \n",
       "1342   39000.0        60        NaN          Good  1980-09-04 00:00:00.000000   \n",
       "773    24500.0        30        NaN          Good  1987-11-30 00:00:00.000000   \n",
       "\n",
       "     bank_account_type  longitude_gps  latitude_gps bank_name_clients  \\\n",
       "583            Savings       7.224332      8.884774              FCMB   \n",
       "2713           Savings       3.291219      6.559089           GT Bank   \n",
       "3116           Savings       3.491421      6.439399        First Bank   \n",
       "1342           Savings       6.985570      4.806448        Union Bank   \n",
       "773            Savings       7.498690      9.055047               UBA   \n",
       "\n",
       "     bank_branch_clients employment_status_clients level_of_education_clients  \n",
       "583                  NaN                       NaN                        NaN  \n",
       "2713                 NaN                       NaN                        NaN  \n",
       "3116                 NaN                 Permanent                        NaN  \n",
       "1342                 NaN                 Permanent                        NaN  \n",
       "773                  NaN                 Permanent                        NaN  "
      ]
     },
     "execution_count": 87,
     "metadata": {},
     "output_type": "execute_result"
    }
   ],
   "source": [
    "train.head()"
   ]
  },
  {
   "cell_type": "code",
   "execution_count": 88,
   "id": "95f0c824-542a-40b2-869a-735b05490b9c",
   "metadata": {},
   "outputs": [
    {
     "data": {
      "text/html": [
       "<div>\n",
       "<style scoped>\n",
       "    .dataframe tbody tr th:only-of-type {\n",
       "        vertical-align: middle;\n",
       "    }\n",
       "\n",
       "    .dataframe tbody tr th {\n",
       "        vertical-align: top;\n",
       "    }\n",
       "\n",
       "    .dataframe thead th {\n",
       "        text-align: right;\n",
       "    }\n",
       "</style>\n",
       "<table border=\"1\" class=\"dataframe\">\n",
       "  <thead>\n",
       "    <tr style=\"text-align: right;\">\n",
       "      <th></th>\n",
       "      <th>systemloanid</th>\n",
       "      <th>loannumber</th>\n",
       "      <th>loanamount</th>\n",
       "      <th>totaldue</th>\n",
       "      <th>termdays</th>\n",
       "      <th>longitude_gps</th>\n",
       "      <th>latitude_gps</th>\n",
       "    </tr>\n",
       "  </thead>\n",
       "  <tbody>\n",
       "    <tr>\n",
       "      <th>count</th>\n",
       "      <td>3.269000e+03</td>\n",
       "      <td>3269.000000</td>\n",
       "      <td>3269.000000</td>\n",
       "      <td>3269.000000</td>\n",
       "      <td>3269.000000</td>\n",
       "      <td>3269.000000</td>\n",
       "      <td>3269.000000</td>\n",
       "    </tr>\n",
       "    <tr>\n",
       "      <th>mean</th>\n",
       "      <td>3.019807e+08</td>\n",
       "      <td>5.189660</td>\n",
       "      <td>17837.259101</td>\n",
       "      <td>21287.068064</td>\n",
       "      <td>29.252065</td>\n",
       "      <td>4.530975</td>\n",
       "      <td>7.290383</td>\n",
       "    </tr>\n",
       "    <tr>\n",
       "      <th>std</th>\n",
       "      <td>1.344962e+04</td>\n",
       "      <td>3.667166</td>\n",
       "      <td>10742.898110</td>\n",
       "      <td>11929.002681</td>\n",
       "      <td>11.403851</td>\n",
       "      <td>7.925454</td>\n",
       "      <td>3.269601</td>\n",
       "    </tr>\n",
       "    <tr>\n",
       "      <th>min</th>\n",
       "      <td>3.019585e+08</td>\n",
       "      <td>2.000000</td>\n",
       "      <td>10000.000000</td>\n",
       "      <td>10000.000000</td>\n",
       "      <td>15.000000</td>\n",
       "      <td>-118.247009</td>\n",
       "      <td>-33.868818</td>\n",
       "    </tr>\n",
       "    <tr>\n",
       "      <th>25%</th>\n",
       "      <td>3.019689e+08</td>\n",
       "      <td>2.000000</td>\n",
       "      <td>10000.000000</td>\n",
       "      <td>13000.000000</td>\n",
       "      <td>30.000000</td>\n",
       "      <td>3.354842</td>\n",
       "      <td>6.473645</td>\n",
       "    </tr>\n",
       "    <tr>\n",
       "      <th>50%</th>\n",
       "      <td>3.019794e+08</td>\n",
       "      <td>4.000000</td>\n",
       "      <td>10000.000000</td>\n",
       "      <td>13000.000000</td>\n",
       "      <td>30.000000</td>\n",
       "      <td>3.584222</td>\n",
       "      <td>6.625681</td>\n",
       "    </tr>\n",
       "    <tr>\n",
       "      <th>75%</th>\n",
       "      <td>3.019934e+08</td>\n",
       "      <td>7.000000</td>\n",
       "      <td>20000.000000</td>\n",
       "      <td>24500.000000</td>\n",
       "      <td>30.000000</td>\n",
       "      <td>6.439855</td>\n",
       "      <td>7.426745</td>\n",
       "    </tr>\n",
       "    <tr>\n",
       "      <th>max</th>\n",
       "      <td>3.020040e+08</td>\n",
       "      <td>27.000000</td>\n",
       "      <td>60000.000000</td>\n",
       "      <td>68100.000000</td>\n",
       "      <td>90.000000</td>\n",
       "      <td>151.209290</td>\n",
       "      <td>71.228069</td>\n",
       "    </tr>\n",
       "  </tbody>\n",
       "</table>\n",
       "</div>"
      ],
      "text/plain": [
       "       systemloanid   loannumber    loanamount      totaldue     termdays  \\\n",
       "count  3.269000e+03  3269.000000   3269.000000   3269.000000  3269.000000   \n",
       "mean   3.019807e+08     5.189660  17837.259101  21287.068064    29.252065   \n",
       "std    1.344962e+04     3.667166  10742.898110  11929.002681    11.403851   \n",
       "min    3.019585e+08     2.000000  10000.000000  10000.000000    15.000000   \n",
       "25%    3.019689e+08     2.000000  10000.000000  13000.000000    30.000000   \n",
       "50%    3.019794e+08     4.000000  10000.000000  13000.000000    30.000000   \n",
       "75%    3.019934e+08     7.000000  20000.000000  24500.000000    30.000000   \n",
       "max    3.020040e+08    27.000000  60000.000000  68100.000000    90.000000   \n",
       "\n",
       "       longitude_gps  latitude_gps  \n",
       "count    3269.000000   3269.000000  \n",
       "mean        4.530975      7.290383  \n",
       "std         7.925454      3.269601  \n",
       "min      -118.247009    -33.868818  \n",
       "25%         3.354842      6.473645  \n",
       "50%         3.584222      6.625681  \n",
       "75%         6.439855      7.426745  \n",
       "max       151.209290     71.228069  "
      ]
     },
     "execution_count": 88,
     "metadata": {},
     "output_type": "execute_result"
    }
   ],
   "source": [
    "train.describe()"
   ]
  },
  {
   "cell_type": "code",
   "execution_count": 89,
   "id": "3f8c4a6a-6131-4a54-9f34-c7a438c03c1b",
   "metadata": {},
   "outputs": [
    {
     "data": {
      "image/png": "[encoded data removed]",
      "text/plain": [
       "<Figure size 1000x800 with 1 Axes>"
      ]
     },
     "metadata": {},
     "output_type": "display_data"
    }
   ],
   "source": [
    "# Plotting count across a categorical variable \n",
    "plt.figure(figsize=(10, 8))\n",
    "sns.countplot(y=\"good_bad_flag\", data=train)\n",
    "plt.savefig('countgoodbadflag.png')\n",
    "plt.show()"
   ]
  },
  {
   "cell_type": "code",
   "execution_count": 90,
   "id": "3553f6d5-d463-49df-9dc5-11bd16616411",
   "metadata": {},
   "outputs": [
    {
     "data": {
      "image/png": "[encoded data removed]",
      "text/plain": [
       "<Figure size 1000x600 with 1 Axes>"
      ]
     },
     "metadata": {},
     "output_type": "display_data"
    }
   ],
   "source": [
    "# Boxplot of Loan Amount by Good/Bad Flag\n",
    "plt.figure(figsize=(10,6))\n",
    "sns.barplot(x='good_bad_flag', y='loanamount', data=train)\n",
    "plt.title('Loan Amount by Good/Bad Flag')\n",
    "plt.xlabel('Good/Bad Flag')\n",
    "plt.ylabel('Loan Amount')\n",
    "plt.savefig('loanamountovergoodbadflag.png')\n",
    "plt.show()"
   ]
  },
  {
   "cell_type": "code",
   "execution_count": 91,
   "id": "fb109b0d-032a-4e2a-bbe2-3d2f93b7dc13",
   "metadata": {},
   "outputs": [
    {
     "data": {
      "image/png": "[encoded data removed]",
      "text/plain": [
       "<Figure size 2000x1500 with 9 Axes>"
      ]
     },
     "metadata": {},
     "output_type": "display_data"
    }
   ],
   "source": [
    "train.hist(figsize=(20,15))\n",
    "plt.show()"
   ]
  },
  {
   "cell_type": "code",
   "execution_count": 92,
   "id": "23230617-7222-4cdb-a82a-42fd08a6a1c5",
   "metadata": {},
   "outputs": [
    {
     "data": {
      "text/html": [
       "<div>\n",
       "<style scoped>\n",
       "    .dataframe tbody tr th:only-of-type {\n",
       "        vertical-align: middle;\n",
       "    }\n",
       "\n",
       "    .dataframe tbody tr th {\n",
       "        vertical-align: top;\n",
       "    }\n",
       "\n",
       "    .dataframe thead th {\n",
       "        text-align: right;\n",
       "    }\n",
       "</style>\n",
       "<table border=\"1\" class=\"dataframe\">\n",
       "  <thead>\n",
       "    <tr style=\"text-align: right;\">\n",
       "      <th></th>\n",
       "      <th>customerid</th>\n",
       "      <th>approveddate</th>\n",
       "      <th>creationdate</th>\n",
       "      <th>referredby</th>\n",
       "      <th>good_bad_flag</th>\n",
       "      <th>birthdate</th>\n",
       "      <th>bank_account_type</th>\n",
       "      <th>bank_name_clients</th>\n",
       "      <th>bank_branch_clients</th>\n",
       "      <th>employment_status_clients</th>\n",
       "      <th>level_of_education_clients</th>\n",
       "    </tr>\n",
       "  </thead>\n",
       "  <tbody>\n",
       "    <tr>\n",
       "      <th>count</th>\n",
       "      <td>3269</td>\n",
       "      <td>3269</td>\n",
       "      <td>3269</td>\n",
       "      <td>448</td>\n",
       "      <td>3269</td>\n",
       "      <td>3269</td>\n",
       "      <td>3269</td>\n",
       "      <td>3269</td>\n",
       "      <td>33</td>\n",
       "      <td>2776</td>\n",
       "      <td>443</td>\n",
       "    </tr>\n",
       "    <tr>\n",
       "      <th>unique</th>\n",
       "      <td>3269</td>\n",
       "      <td>3265</td>\n",
       "      <td>3266</td>\n",
       "      <td>407</td>\n",
       "      <td>2</td>\n",
       "      <td>2638</td>\n",
       "      <td>3</td>\n",
       "      <td>18</td>\n",
       "      <td>31</td>\n",
       "      <td>6</td>\n",
       "      <td>4</td>\n",
       "    </tr>\n",
       "    <tr>\n",
       "      <th>top</th>\n",
       "      <td>8a858fff5c79144c015c7bdbfc086ce1</td>\n",
       "      <td>2017-07-01 21:13:24.000000</td>\n",
       "      <td>2017-07-26 07:28:00.000000</td>\n",
       "      <td>8a858fc55b2548dd015b286e452c678c</td>\n",
       "      <td>Good</td>\n",
       "      <td>1983-12-16 00:00:00.000000</td>\n",
       "      <td>Savings</td>\n",
       "      <td>GT Bank</td>\n",
       "      <td>OGBA</td>\n",
       "      <td>Permanent</td>\n",
       "      <td>Graduate</td>\n",
       "    </tr>\n",
       "    <tr>\n",
       "      <th>freq</th>\n",
       "      <td>1</td>\n",
       "      <td>2</td>\n",
       "      <td>2</td>\n",
       "      <td>6</td>\n",
       "      <td>2556</td>\n",
       "      <td>4</td>\n",
       "      <td>2570</td>\n",
       "      <td>1207</td>\n",
       "      <td>3</td>\n",
       "      <td>2340</td>\n",
       "      <td>321</td>\n",
       "    </tr>\n",
       "  </tbody>\n",
       "</table>\n",
       "</div>"
      ],
      "text/plain": [
       "                              customerid                approveddate  \\\n",
       "count                               3269                        3269   \n",
       "unique                              3269                        3265   \n",
       "top     8a858fff5c79144c015c7bdbfc086ce1  2017-07-01 21:13:24.000000   \n",
       "freq                                   1                           2   \n",
       "\n",
       "                      creationdate                        referredby  \\\n",
       "count                         3269                               448   \n",
       "unique                        3266                               407   \n",
       "top     2017-07-26 07:28:00.000000  8a858fc55b2548dd015b286e452c678c   \n",
       "freq                             2                                 6   \n",
       "\n",
       "       good_bad_flag                   birthdate bank_account_type  \\\n",
       "count           3269                        3269              3269   \n",
       "unique             2                        2638                 3   \n",
       "top             Good  1983-12-16 00:00:00.000000           Savings   \n",
       "freq            2556                           4              2570   \n",
       "\n",
       "       bank_name_clients bank_branch_clients employment_status_clients  \\\n",
       "count               3269                  33                      2776   \n",
       "unique                18                  31                         6   \n",
       "top              GT Bank                OGBA                 Permanent   \n",
       "freq                1207                   3                      2340   \n",
       "\n",
       "       level_of_education_clients  \n",
       "count                         443  \n",
       "unique                          4  \n",
       "top                      Graduate  \n",
       "freq                          321  "
      ]
     },
     "execution_count": 92,
     "metadata": {},
     "output_type": "execute_result"
    }
   ],
   "source": [
    "train.select_dtypes(include=['object']).describe()"
   ]
  },
  {
   "cell_type": "code",
   "execution_count": 93,
   "id": "2b2d61e8-f846-4234-9855-915493f80624",
   "metadata": {},
   "outputs": [
    {
     "data": {
      "image/png": "[encoded data removed]",
      "text/plain": [
       "<Figure size 1000x600 with 1 Axes>"
      ]
     },
     "metadata": {},
     "output_type": "display_data"
    }
   ],
   "source": [
    "# Histogram of Loan Amount\n",
    "plt.figure(figsize=(10,6))\n",
    "sns.histplot(train['loanamount'], kde=False, bins=30)\n",
    "plt.title('Loan Amount Distribution')\n",
    "plt.xlabel('Loan Amount')\n",
    "plt.ylabel('Count')\n",
    "plt.savefig('loanamount.png')\n",
    "plt.show()"
   ]
  },
  {
   "cell_type": "code",
   "execution_count": 94,
   "id": "136f7908-b9e2-485a-9b10-435bf521320a",
   "metadata": {},
   "outputs": [
    {
     "data": {
      "image/png": "[encoded data removed]",
      "text/plain": [
       "<Figure size 1000x600 with 1 Axes>"
      ]
     },
     "metadata": {},
     "output_type": "display_data"
    }
   ],
   "source": [
    "# Barplot of Loan Amount by Good/Bad Flag\n",
    "plt.figure(figsize=(10,6))\n",
    "sns.barplot(x='good_bad_flag', y='loanamount', data=train)\n",
    "plt.title('Loan Amount by Good/Bad Flag')\n",
    "plt.xlabel('Good/Bad Flag')\n",
    "plt.ylabel('Loan Amount')\n",
    "plt.savefig('loanamountovergoodbadflag.png')\n",
    "plt.show()"
   ]
  },
  {
   "cell_type": "code",
   "execution_count": 95,
   "id": "5d30eb51-3c98-4abb-9740-7f4498a6c1d3",
   "metadata": {},
   "outputs": [
    {
     "data": {
      "image/png": "[encoded data removed]",
      "text/plain": [
       "<Figure size 1000x600 with 1 Axes>"
      ]
     },
     "metadata": {},
     "output_type": "display_data"
    }
   ],
   "source": [
    "# Countplot of Employment Status\n",
    "plt.figure(figsize=(10,6))\n",
    "sns.countplot(x='employment_status_clients', data=train)\n",
    "plt.title('Employment Status Distribution')\n",
    "plt.xlabel('Employment Status')\n",
    "plt.ylabel('Count')\n",
    "plt.savefig('employmentstatus.png')\n",
    "plt.show()"
   ]
  },
  {
   "cell_type": "code",
   "execution_count": 96,
   "id": "304815b2-a22b-4ef0-b300-48a870eef708",
   "metadata": {},
   "outputs": [
    {
     "data": {
      "image/png": "[encoded data removed]",
      "text/plain": [
       "<Figure size 1000x600 with 1 Axes>"
      ]
     },
     "metadata": {},
     "output_type": "display_data"
    }
   ],
   "source": [
    "# Scatterplot of Longitude and Latitude\n",
    "plt.figure(figsize=(10,6))\n",
    "sns.scatterplot(x='longitude_gps', y='latitude_gps', data=train)\n",
    "plt.title('Geographical Distribution')\n",
    "plt.xlabel('Longitude')\n",
    "plt.ylabel('Latitude')\n",
    "plt.savefig('geographylatgps.png')\n",
    "plt.show()"
   ]
  },
  {
   "cell_type": "code",
   "execution_count": 97,
   "id": "b211f701-7ecd-476d-9e24-82c01ec40d01",
   "metadata": {},
   "outputs": [
    {
     "data": {
      "image/png": "[encoded data removed]",
      "text/plain": [
       "<Figure size 1000x600 with 1 Axes>"
      ]
     },
     "metadata": {},
     "output_type": "display_data"
    }
   ],
   "source": [
    "# Countplot of Education Level by Good/Bad Flag\n",
    "plt.figure(figsize=(10,6))\n",
    "sns.countplot(x='level_of_education_clients', hue='good_bad_flag', data=train)\n",
    "plt.title('Education Level by Good/Bad Flag')\n",
    "plt.xlabel('Education Level')\n",
    "plt.ylabel('Count')\n",
    "plt.savefig('educationlevelforgoodandbadflag.png')\n",
    "plt.show()"
   ]
  },
  {
   "cell_type": "code",
   "execution_count": 15,
   "id": "5733b91a-3ff8-40cb-aa46-2934f4ffd892",
   "metadata": {},
   "outputs": [],
   "source": [
    "def fill_missing_values(df):\n",
    "    # Loop over each column in the dataframe\n",
    "    for col in df.columns:\n",
    "        if df[col].dtype == 'float64' or df[col].dtype == 'int64': # Check if column is numeric\n",
    "            # Fill missing values with mean\n",
    "            df[col].fillna(df[col].mean(), inplace=True)\n",
    "        else:\n",
    "            # Fill missing values with mode\n",
    "            df[col].fillna(df[col].mode()[0], inplace=True)\n",
    "    return df"
   ]
  },
  {
   "cell_type": "code",
   "execution_count": 16,
   "id": "8fbb33ab-b5b6-49a9-952c-53041dc81a2f",
   "metadata": {},
   "outputs": [],
   "source": [
    "# Fill missing values using the function\n",
    "train = fill_missing_values(train)"
   ]
  },
  {
   "cell_type": "code",
   "execution_count": 17,
   "id": "2bd95d5f-9e9d-4db0-91db-33bd5746586f",
   "metadata": {},
   "outputs": [
    {
     "name": "stderr",
     "output_type": "stream",
     "text": [
      "C:\\Users\\Ezekiel Adebayo\\AppData\\Local\\Temp\\ipykernel_20036\\691668889.py:8: FutureWarning:\n",
      "\n",
      "Series.dt.weekofyear and Series.dt.week have been deprecated. Please use Series.dt.isocalendar().week instead.\n",
      "\n",
      "C:\\Users\\Ezekiel Adebayo\\AppData\\Local\\Temp\\ipykernel_20036\\691668889.py:14: FutureWarning:\n",
      "\n",
      "Series.dt.weekofyear and Series.dt.week have been deprecated. Please use Series.dt.isocalendar().week instead.\n",
      "\n"
     ]
    }
   ],
   "source": [
    "train['approveddate'] = pd.to_datetime(train['approveddate'])\n",
    "train['creationdate'] = pd.to_datetime(train['creationdate'])\n",
    "\n",
    "train['approved_year'] = train['approveddate'].dt.year\n",
    "train['approved_month'] = train['approveddate'].dt.month\n",
    "train['approved_day'] = train['approveddate'].dt.day\n",
    "train['approved_dayofweek'] = train['approveddate'].dt.dayofweek\n",
    "train['approved_weekofyear'] = train['approveddate'].dt.weekofyear\n",
    "\n",
    "train['creation_year'] = train['creationdate'].dt.year\n",
    "train['creation_month'] = train['creationdate'].dt.month\n",
    "train['creation_day'] = train['creationdate'].dt.day\n",
    "train['creation_dayofweek'] = train['creationdate'].dt.dayofweek\n",
    "train['creation_weekofyear'] = train['creationdate'].dt.weekofyear"
   ]
  },
  {
   "cell_type": "code",
   "execution_count": 18,
   "id": "b195afbb-f5ab-4af2-972e-d1ea4beaf1f1",
   "metadata": {},
   "outputs": [],
   "source": [
    "# Creating ratio of loan amount to total due\n",
    "train['amount_due_ratio'] = train['loanamount'] / train['totaldue']\n",
    "\n",
    "# Creating average loan amount for each customer\n",
    "train['avg_loan_amount'] = train.groupby('customerid')['loanamount'].transform('mean')\n",
    "\n",
    "# Creating average loan term for each customer\n",
    "train['avg_loan_term'] = train.groupby('customerid')['termdays'].transform('mean')"
   ]
  },
  {
   "cell_type": "code",
   "execution_count": 19,
   "id": "593f81ab-c236-425c-8364-77a1fe1b8d3f",
   "metadata": {},
   "outputs": [
    {
     "data": {
      "text/plain": [
       "customerid                    0\n",
       "systemloanid                  0\n",
       "loannumber                    0\n",
       "approveddate                  0\n",
       "creationdate                  0\n",
       "loanamount                    0\n",
       "totaldue                      0\n",
       "termdays                      0\n",
       "referredby                    0\n",
       "good_bad_flag                 0\n",
       "birthdate                     0\n",
       "bank_account_type             0\n",
       "longitude_gps                 0\n",
       "latitude_gps                  0\n",
       "bank_name_clients             0\n",
       "bank_branch_clients           0\n",
       "employment_status_clients     0\n",
       "level_of_education_clients    0\n",
       "approved_year                 0\n",
       "approved_month                0\n",
       "approved_day                  0\n",
       "approved_dayofweek            0\n",
       "approved_weekofyear           0\n",
       "creation_year                 0\n",
       "creation_month                0\n",
       "creation_day                  0\n",
       "creation_dayofweek            0\n",
       "creation_weekofyear           0\n",
       "amount_due_ratio              0\n",
       "avg_loan_amount               0\n",
       "avg_loan_term                 0\n",
       "dtype: int64"
      ]
     },
     "execution_count": 19,
     "metadata": {},
     "output_type": "execute_result"
    }
   ],
   "source": [
    "train.isnull().sum()"
   ]
  },
  {
   "cell_type": "code",
   "execution_count": 103,
   "id": "6cbea73a-1074-4d87-a073-a4dd08c87248",
   "metadata": {},
   "outputs": [
    {
     "name": "stdout",
     "output_type": "stream",
     "text": [
      "<class 'pandas.core.frame.DataFrame'>\n",
      "Int64Index: 3269 entries, 583 to 333\n",
      "Data columns (total 31 columns):\n",
      " #   Column                      Non-Null Count  Dtype         \n",
      "---  ------                      --------------  -----         \n",
      " 0   customerid                  3269 non-null   object        \n",
      " 1   systemloanid                3269 non-null   int64         \n",
      " 2   loannumber                  3269 non-null   int64         \n",
      " 3   approveddate                3269 non-null   datetime64[ns]\n",
      " 4   creationdate                3269 non-null   datetime64[ns]\n",
      " 5   loanamount                  3269 non-null   float64       \n",
      " 6   totaldue                    3269 non-null   float64       \n",
      " 7   termdays                    3269 non-null   int64         \n",
      " 8   referredby                  3269 non-null   object        \n",
      " 9   good_bad_flag               3269 non-null   object        \n",
      " 10  birthdate                   3269 non-null   object        \n",
      " 11  bank_account_type           3269 non-null   object        \n",
      " 12  longitude_gps               3269 non-null   float64       \n",
      " 13  latitude_gps                3269 non-null   float64       \n",
      " 14  bank_name_clients           3269 non-null   object        \n",
      " 15  bank_branch_clients         3269 non-null   object        \n",
      " 16  employment_status_clients   3269 non-null   object        \n",
      " 17  level_of_education_clients  3269 non-null   object        \n",
      " 18  approved_year               3269 non-null   int64         \n",
      " 19  approved_month              3269 non-null   int64         \n",
      " 20  approved_day                3269 non-null   int64         \n",
      " 21  approved_dayofweek          3269 non-null   int64         \n",
      " 22  approved_weekofyear         3269 non-null   int64         \n",
      " 23  creation_year               3269 non-null   int64         \n",
      " 24  creation_month              3269 non-null   int64         \n",
      " 25  creation_day                3269 non-null   int64         \n",
      " 26  creation_dayofweek          3269 non-null   int64         \n",
      " 27  creation_weekofyear         3269 non-null   int64         \n",
      " 28  amount_due_ratio            3269 non-null   float64       \n",
      " 29  avg_loan_amount             3269 non-null   float64       \n",
      " 30  avg_loan_term               3269 non-null   float64       \n",
      "dtypes: datetime64[ns](2), float64(7), int64(13), object(9)\n",
      "memory usage: 817.2+ KB\n"
     ]
    }
   ],
   "source": [
    "train.info()"
   ]
  },
  {
   "cell_type": "code",
   "execution_count": 20,
   "id": "26a7f2d1-3ba2-4e6c-b5a3-3b44579e9876",
   "metadata": {},
   "outputs": [],
   "source": [
    "from sklearn.preprocessing import LabelEncoder\n",
    "\n",
    "def label_encode_features(df):\n",
    "    le = LabelEncoder() # create a label encoder object\n",
    "    \n",
    "    for col in df.columns:\n",
    "        if df[col].dtype == 'object': # check if column is of type 'object'\n",
    "            df[col] = le.fit_transform(df[col].astype(str)) # label encode the column\n",
    "            \n",
    "    return df"
   ]
  },
  {
   "cell_type": "code",
   "execution_count": 21,
   "id": "bbedfd00-25f1-4f27-85c9-f7e6548581b0",
   "metadata": {},
   "outputs": [],
   "source": [
    "# Label encode the object-type features using the function\n",
    "train = label_encode_features(train)"
   ]
  },
  {
   "cell_type": "code",
   "execution_count": 22,
   "id": "8753d93f-96d1-4e65-9227-271dc8e19f1c",
   "metadata": {},
   "outputs": [
    {
     "data": {
      "text/html": [
       "<div>\n",
       "<style scoped>\n",
       "    .dataframe tbody tr th:only-of-type {\n",
       "        vertical-align: middle;\n",
       "    }\n",
       "\n",
       "    .dataframe tbody tr th {\n",
       "        vertical-align: top;\n",
       "    }\n",
       "\n",
       "    .dataframe thead th {\n",
       "        text-align: right;\n",
       "    }\n",
       "</style>\n",
       "<table border=\"1\" class=\"dataframe\">\n",
       "  <thead>\n",
       "    <tr style=\"text-align: right;\">\n",
       "      <th></th>\n",
       "      <th>customerid</th>\n",
       "      <th>systemloanid</th>\n",
       "      <th>loannumber</th>\n",
       "      <th>approveddate</th>\n",
       "      <th>creationdate</th>\n",
       "      <th>loanamount</th>\n",
       "      <th>totaldue</th>\n",
       "      <th>termdays</th>\n",
       "      <th>referredby</th>\n",
       "      <th>good_bad_flag</th>\n",
       "      <th>...</th>\n",
       "      <th>approved_dayofweek</th>\n",
       "      <th>approved_weekofyear</th>\n",
       "      <th>creation_year</th>\n",
       "      <th>creation_month</th>\n",
       "      <th>creation_day</th>\n",
       "      <th>creation_dayofweek</th>\n",
       "      <th>creation_weekofyear</th>\n",
       "      <th>amount_due_ratio</th>\n",
       "      <th>avg_loan_amount</th>\n",
       "      <th>avg_loan_term</th>\n",
       "    </tr>\n",
       "  </thead>\n",
       "  <tbody>\n",
       "    <tr>\n",
       "      <th>583</th>\n",
       "      <td>3268</td>\n",
       "      <td>301967027</td>\n",
       "      <td>2</td>\n",
       "      <td>2017-07-06 19:42:39</td>\n",
       "      <td>2017-07-06 18:42:34</td>\n",
       "      <td>10000.0</td>\n",
       "      <td>13000.0</td>\n",
       "      <td>30</td>\n",
       "      <td>358</td>\n",
       "      <td>1</td>\n",
       "      <td>...</td>\n",
       "      <td>3</td>\n",
       "      <td>27</td>\n",
       "      <td>2017</td>\n",
       "      <td>7</td>\n",
       "      <td>6</td>\n",
       "      <td>3</td>\n",
       "      <td>27</td>\n",
       "      <td>0.769231</td>\n",
       "      <td>10000.0</td>\n",
       "      <td>30.0</td>\n",
       "    </tr>\n",
       "    <tr>\n",
       "      <th>2713</th>\n",
       "      <td>3267</td>\n",
       "      <td>301992274</td>\n",
       "      <td>7</td>\n",
       "      <td>2017-07-23 18:39:10</td>\n",
       "      <td>2017-07-23 17:39:04</td>\n",
       "      <td>30000.0</td>\n",
       "      <td>34500.0</td>\n",
       "      <td>30</td>\n",
       "      <td>358</td>\n",
       "      <td>1</td>\n",
       "      <td>...</td>\n",
       "      <td>6</td>\n",
       "      <td>29</td>\n",
       "      <td>2017</td>\n",
       "      <td>7</td>\n",
       "      <td>23</td>\n",
       "      <td>6</td>\n",
       "      <td>29</td>\n",
       "      <td>0.869565</td>\n",
       "      <td>30000.0</td>\n",
       "      <td>30.0</td>\n",
       "    </tr>\n",
       "    <tr>\n",
       "      <th>3116</th>\n",
       "      <td>3266</td>\n",
       "      <td>301989105</td>\n",
       "      <td>7</td>\n",
       "      <td>2017-07-21 11:24:08</td>\n",
       "      <td>2017-07-21 10:24:01</td>\n",
       "      <td>30000.0</td>\n",
       "      <td>34500.0</td>\n",
       "      <td>30</td>\n",
       "      <td>358</td>\n",
       "      <td>1</td>\n",
       "      <td>...</td>\n",
       "      <td>4</td>\n",
       "      <td>29</td>\n",
       "      <td>2017</td>\n",
       "      <td>7</td>\n",
       "      <td>21</td>\n",
       "      <td>4</td>\n",
       "      <td>29</td>\n",
       "      <td>0.869565</td>\n",
       "      <td>30000.0</td>\n",
       "      <td>30.0</td>\n",
       "    </tr>\n",
       "    <tr>\n",
       "      <th>1342</th>\n",
       "      <td>3265</td>\n",
       "      <td>301961209</td>\n",
       "      <td>7</td>\n",
       "      <td>2017-07-03 15:05:14</td>\n",
       "      <td>2017-07-03 14:04:07</td>\n",
       "      <td>30000.0</td>\n",
       "      <td>39000.0</td>\n",
       "      <td>60</td>\n",
       "      <td>358</td>\n",
       "      <td>1</td>\n",
       "      <td>...</td>\n",
       "      <td>0</td>\n",
       "      <td>27</td>\n",
       "      <td>2017</td>\n",
       "      <td>7</td>\n",
       "      <td>3</td>\n",
       "      <td>0</td>\n",
       "      <td>27</td>\n",
       "      <td>0.769231</td>\n",
       "      <td>30000.0</td>\n",
       "      <td>60.0</td>\n",
       "    </tr>\n",
       "    <tr>\n",
       "      <th>773</th>\n",
       "      <td>3264</td>\n",
       "      <td>301966641</td>\n",
       "      <td>5</td>\n",
       "      <td>2017-07-06 15:26:22</td>\n",
       "      <td>2017-07-06 14:26:13</td>\n",
       "      <td>20000.0</td>\n",
       "      <td>24500.0</td>\n",
       "      <td>30</td>\n",
       "      <td>358</td>\n",
       "      <td>1</td>\n",
       "      <td>...</td>\n",
       "      <td>3</td>\n",
       "      <td>27</td>\n",
       "      <td>2017</td>\n",
       "      <td>7</td>\n",
       "      <td>6</td>\n",
       "      <td>3</td>\n",
       "      <td>27</td>\n",
       "      <td>0.816327</td>\n",
       "      <td>20000.0</td>\n",
       "      <td>30.0</td>\n",
       "    </tr>\n",
       "  </tbody>\n",
       "</table>\n",
       "<p>5 rows × 31 columns</p>\n",
       "</div>"
      ],
      "text/plain": [
       "      customerid  systemloanid  loannumber        approveddate  \\\n",
       "583         3268     301967027           2 2017-07-06 19:42:39   \n",
       "2713        3267     301992274           7 2017-07-23 18:39:10   \n",
       "3116        3266     301989105           7 2017-07-21 11:24:08   \n",
       "1342        3265     301961209           7 2017-07-03 15:05:14   \n",
       "773         3264     301966641           5 2017-07-06 15:26:22   \n",
       "\n",
       "            creationdate  loanamount  totaldue  termdays  referredby  \\\n",
       "583  2017-07-06 18:42:34     10000.0   13000.0        30         358   \n",
       "2713 2017-07-23 17:39:04     30000.0   34500.0        30         358   \n",
       "3116 2017-07-21 10:24:01     30000.0   34500.0        30         358   \n",
       "1342 2017-07-03 14:04:07     30000.0   39000.0        60         358   \n",
       "773  2017-07-06 14:26:13     20000.0   24500.0        30         358   \n",
       "\n",
       "      good_bad_flag  ...  approved_dayofweek  approved_weekofyear  \\\n",
       "583               1  ...                   3                   27   \n",
       "2713              1  ...                   6                   29   \n",
       "3116              1  ...                   4                   29   \n",
       "1342              1  ...                   0                   27   \n",
       "773               1  ...                   3                   27   \n",
       "\n",
       "      creation_year  creation_month  creation_day  creation_dayofweek  \\\n",
       "583            2017               7             6                   3   \n",
       "2713           2017               7            23                   6   \n",
       "3116           2017               7            21                   4   \n",
       "1342           2017               7             3                   0   \n",
       "773            2017               7             6                   3   \n",
       "\n",
       "      creation_weekofyear  amount_due_ratio  avg_loan_amount  avg_loan_term  \n",
       "583                    27          0.769231          10000.0           30.0  \n",
       "2713                   29          0.869565          30000.0           30.0  \n",
       "3116                   29          0.869565          30000.0           30.0  \n",
       "1342                   27          0.769231          30000.0           60.0  \n",
       "773                    27          0.816327          20000.0           30.0  \n",
       "\n",
       "[5 rows x 31 columns]"
      ]
     },
     "execution_count": 22,
     "metadata": {},
     "output_type": "execute_result"
    }
   ],
   "source": [
    "train.head()"
   ]
  },
  {
   "cell_type": "code",
   "execution_count": 23,
   "id": "5215bcec-585c-41f8-ae24-d41647f42352",
   "metadata": {},
   "outputs": [
    {
     "name": "stdout",
     "output_type": "stream",
     "text": [
      "<class 'pandas.core.frame.DataFrame'>\n",
      "Int64Index: 3269 entries, 583 to 333\n",
      "Data columns (total 31 columns):\n",
      " #   Column                      Non-Null Count  Dtype         \n",
      "---  ------                      --------------  -----         \n",
      " 0   customerid                  3269 non-null   int32         \n",
      " 1   systemloanid                3269 non-null   int64         \n",
      " 2   loannumber                  3269 non-null   int64         \n",
      " 3   approveddate                3269 non-null   datetime64[ns]\n",
      " 4   creationdate                3269 non-null   datetime64[ns]\n",
      " 5   loanamount                  3269 non-null   float64       \n",
      " 6   totaldue                    3269 non-null   float64       \n",
      " 7   termdays                    3269 non-null   int64         \n",
      " 8   referredby                  3269 non-null   int32         \n",
      " 9   good_bad_flag               3269 non-null   int32         \n",
      " 10  birthdate                   3269 non-null   int32         \n",
      " 11  bank_account_type           3269 non-null   int32         \n",
      " 12  longitude_gps               3269 non-null   float64       \n",
      " 13  latitude_gps                3269 non-null   float64       \n",
      " 14  bank_name_clients           3269 non-null   int32         \n",
      " 15  bank_branch_clients         3269 non-null   int32         \n",
      " 16  employment_status_clients   3269 non-null   int32         \n",
      " 17  level_of_education_clients  3269 non-null   int32         \n",
      " 18  approved_year               3269 non-null   int64         \n",
      " 19  approved_month              3269 non-null   int64         \n",
      " 20  approved_day                3269 non-null   int64         \n",
      " 21  approved_dayofweek          3269 non-null   int64         \n",
      " 22  approved_weekofyear         3269 non-null   int64         \n",
      " 23  creation_year               3269 non-null   int64         \n",
      " 24  creation_month              3269 non-null   int64         \n",
      " 25  creation_day                3269 non-null   int64         \n",
      " 26  creation_dayofweek          3269 non-null   int64         \n",
      " 27  creation_weekofyear         3269 non-null   int64         \n",
      " 28  amount_due_ratio            3269 non-null   float64       \n",
      " 29  avg_loan_amount             3269 non-null   float64       \n",
      " 30  avg_loan_term               3269 non-null   float64       \n",
      "dtypes: datetime64[ns](2), float64(7), int32(9), int64(13)\n",
      "memory usage: 702.3 KB\n"
     ]
    }
   ],
   "source": [
    "train.info()"
   ]
  },
  {
   "cell_type": "code",
   "execution_count": 24,
   "id": "cbe641f6-ba31-47d5-98dc-017a1477cea9",
   "metadata": {},
   "outputs": [],
   "source": [
    "train.drop(['approveddate', 'creationdate'], axis=1, inplace=True)"
   ]
  },
  {
   "cell_type": "code",
   "execution_count": 25,
   "id": "38463779-3224-492d-8a2b-22699096936f",
   "metadata": {},
   "outputs": [],
   "source": [
    "#handling imbalance multiclass \n",
    "X = train.drop(['customerid', 'good_bad_flag'], axis=1)\n",
    "y = train['good_bad_flag']"
   ]
  },
  {
   "cell_type": "code",
   "execution_count": 26,
   "id": "4a5316f0-7183-41f6-a38a-18d50e148cac",
   "metadata": {},
   "outputs": [
    {
     "data": {
      "text/plain": [
       "Index(['systemloanid', 'loannumber', 'loanamount', 'totaldue', 'termdays',\n",
       "       'referredby', 'birthdate', 'bank_account_type', 'longitude_gps',\n",
       "       'latitude_gps', 'bank_name_clients', 'bank_branch_clients',\n",
       "       'employment_status_clients', 'level_of_education_clients',\n",
       "       'approved_year', 'approved_month', 'approved_day', 'approved_dayofweek',\n",
       "       'approved_weekofyear', 'creation_year', 'creation_month',\n",
       "       'creation_day', 'creation_dayofweek', 'creation_weekofyear',\n",
       "       'amount_due_ratio', 'avg_loan_amount', 'avg_loan_term'],\n",
       "      dtype='object')"
      ]
     },
     "execution_count": 26,
     "metadata": {},
     "output_type": "execute_result"
    }
   ],
   "source": [
    "X.columns"
   ]
  },
  {
   "cell_type": "code",
   "execution_count": 28,
   "id": "86cc51a5-41fb-479e-b1d5-ba6c082dec82",
   "metadata": {},
   "outputs": [],
   "source": [
    "# importing machine learning modules\n",
    "\n",
    "from sklearn.model_selection import train_test_split, cross_val_score\n",
    "from sklearn.preprocessing import LabelEncoder, StandardScaler\n",
    "from sklearn.pipeline import Pipeline\n",
    "from imblearn.pipeline import make_pipeline\n",
    "from imblearn.over_sampling import SMOTE\n",
    "from sklearn.ensemble import RandomForestClassifier, GradientBoostingClassifier,VotingClassifier\n",
    "from sklearn.metrics import classification_report, confusion_matrix, accuracy_score"
   ]
  },
  {
   "cell_type": "code",
   "execution_count": 29,
   "id": "bc06d20e-48f5-4d0a-9e21-0f48da3c2ca7",
   "metadata": {},
   "outputs": [],
   "source": [
    "X_train, X_test, y_train, y_test = train_test_split(X, y, test_size=0.3, random_state=42)\n",
    "#smote = SMOTE(random_state=42)\n",
    "#X_train_res, y_train_res = smote.fit_resample(X_train, y_train)"
   ]
  },
  {
   "cell_type": "code",
   "execution_count": 30,
   "id": "0014bca3-e3b6-4d24-97d4-65efd62f3c25",
   "metadata": {},
   "outputs": [],
   "source": [
    "sc = StandardScaler()\n",
    "\n",
    "X = sc.fit_transform(X)"
   ]
  },
  {
   "cell_type": "code",
   "execution_count": 31,
   "id": "44b7652a-3773-443f-bce8-8337da601288",
   "metadata": {},
   "outputs": [
    {
     "data": {
      "text/plain": [
       "(      systemloanid  loannumber  loanamount  totaldue  termdays  referredby  \\\n",
       " 1394     301985895           2     10000.0   13000.0        30          44   \n",
       " 1291     301970163           2     10000.0   13000.0        30         358   \n",
       " 2311     301977765           4     20000.0   24500.0        30         358   \n",
       " 3038     301962616          12     30000.0   39000.0        60         358   \n",
       " 714      301981223          10     30000.0   34500.0        30         358   \n",
       " ...            ...         ...         ...       ...       ...         ...   \n",
       " 1977     301960958           2     10000.0   13000.0        30         358   \n",
       " 74       301994809           3     10000.0   13000.0        30         358   \n",
       " 2269     301972786           2     10000.0   13000.0        30         257   \n",
       " 640      302000559           2     10000.0   13000.0        30         238   \n",
       " 2962     301975016           9     30000.0   34500.0        30         358   \n",
       " \n",
       "       birthdate  bank_account_type  longitude_gps  latitude_gps  ...  \\\n",
       " 1394        560                  2     -77.441691     39.322143  ...   \n",
       " 1291       1230                  2       3.085121      6.533463  ...   \n",
       " 2311        974                  2       3.198668      6.493532  ...   \n",
       " 3038       2337                  2       3.397193      6.534063  ...   \n",
       " 714         525                  2       3.333137      6.584163  ...   \n",
       " ...         ...                ...            ...           ...  ...   \n",
       " 1977       2165                  2       3.416000      6.435100  ...   \n",
       " 74         1089                  2       3.332901      6.584831  ...   \n",
       " 2269       1599                  2       3.912796      7.536263  ...   \n",
       " 640        1529                  2       7.453432      9.072261  ...   \n",
       " 2962        746                  1       3.171220      6.477632  ...   \n",
       " \n",
       "       approved_dayofweek  approved_weekofyear  creation_year  creation_month  \\\n",
       " 1394                   2                   29           2017               7   \n",
       " 1291                   6                   27           2017               7   \n",
       " 2311                   4                   28           2017               7   \n",
       " 3038                   1                   27           2017               7   \n",
       " 714                    0                   29           2017               7   \n",
       " ...                  ...                  ...            ...             ...   \n",
       " 1977                   0                   27           2017               7   \n",
       " 74                     1                   30           2017               7   \n",
       " 2269                   1                   28           2017               7   \n",
       " 640                    4                   30           2017               7   \n",
       " 2962                   2                   28           2017               7   \n",
       " \n",
       "       creation_day  creation_dayofweek  creation_weekofyear  amount_due_ratio  \\\n",
       " 1394            19                   2                   29          0.769231   \n",
       " 1291             9                   6                   27          0.769231   \n",
       " 2311            14                   4                   28          0.816327   \n",
       " 3038             4                   1                   27          0.769231   \n",
       " 714             17                   0                   29          0.869565   \n",
       " ...            ...                 ...                  ...               ...   \n",
       " 1977             3                   0                   27          0.769231   \n",
       " 74              25                   1                   30          0.769231   \n",
       " 2269            11                   1                   28          0.769231   \n",
       " 640             28                   4                   30          0.769231   \n",
       " 2962            12                   2                   28          0.869565   \n",
       " \n",
       "       avg_loan_amount  avg_loan_term  \n",
       " 1394          10000.0           30.0  \n",
       " 1291          10000.0           30.0  \n",
       " 2311          20000.0           30.0  \n",
       " 3038          30000.0           60.0  \n",
       " 714           30000.0           30.0  \n",
       " ...               ...            ...  \n",
       " 1977          10000.0           30.0  \n",
       " 74            10000.0           30.0  \n",
       " 2269          10000.0           30.0  \n",
       " 640           10000.0           30.0  \n",
       " 2962          30000.0           30.0  \n",
       " \n",
       " [2288 rows x 27 columns],\n",
       " 1394    1\n",
       " 1291    1\n",
       " 2311    1\n",
       " 3038    0\n",
       " 714     1\n",
       "        ..\n",
       " 1977    1\n",
       " 74      1\n",
       " 2269    1\n",
       " 640     1\n",
       " 2962    1\n",
       " Name: good_bad_flag, Length: 2288, dtype: int32)"
      ]
     },
     "execution_count": 31,
     "metadata": {},
     "output_type": "execute_result"
    }
   ],
   "source": [
    "X_train, y_train"
   ]
  },
  {
   "cell_type": "code",
   "execution_count": 32,
   "id": "b336c4bc-f1b4-43f0-9d45-200ebc4a9a87",
   "metadata": {},
   "outputs": [],
   "source": [
    "# Machine learning performance metrics\n",
    "from sklearn import tree\n",
    "from sklearn.tree import DecisionTreeClassifier\n",
    "from sklearn import metrics\n",
    "from sklearn.metrics import confusion_matrix\n",
    "from sklearn.metrics import classification_report\n",
    "from sklearn.metrics import ConfusionMatrixDisplay"
   ]
  },
  {
   "cell_type": "code",
   "execution_count": 33,
   "id": "4c42a406-dd4e-40b3-a8d9-425421d5d44f",
   "metadata": {},
   "outputs": [],
   "source": [
    "# Create the classifier and feature selector\n",
    "X = train.drop(['customerid', 'good_bad_flag'], axis=1)\n",
    "y = train['good_bad_flag']\n",
    "\n",
    "clf = RandomForestClassifier(n_estimators=100)\n",
    "#selector = RFE(clf, n_features_to_select=5, step=1)\n",
    "\n",
    "# Fit the selector to the data\n",
    "model = clf.fit(X, y)\n",
    "\n",
    "# Print the selected features\n",
    "# print(\"Selected Features: \", X.columns[selector.support_])\n",
    "\n",
    "# Get the transformed data with only the selected features\n",
    "#X_selected = selector.transform(X)"
   ]
  },
  {
   "cell_type": "code",
   "execution_count": 35,
   "id": "4fad74d2-2c4f-4f75-917c-d8321bdd7387",
   "metadata": {},
   "outputs": [
    {
     "ename": "KeyError",
     "evalue": "\"['systemloanid', 'referredby'] not found in axis\"",
     "output_type": "error",
     "traceback": [
      "\u001b[1;31m---------------------------------------------------------------------------\u001b[0m",
      "\u001b[1;31mKeyError\u001b[0m                                  Traceback (most recent call last)",
      "\u001b[1;32m~\\AppData\\Local\\Temp\\ipykernel_20036\\3618189897.py\u001b[0m in \u001b[0;36m<module>\u001b[1;34m\u001b[0m\n\u001b[1;32m----> 1\u001b[1;33m \u001b[0mX\u001b[0m\u001b[1;33m.\u001b[0m\u001b[0mdrop\u001b[0m\u001b[1;33m(\u001b[0m\u001b[1;33m[\u001b[0m\u001b[1;34m'systemloanid'\u001b[0m\u001b[1;33m,\u001b[0m\u001b[1;34m'referredby'\u001b[0m\u001b[1;33m]\u001b[0m\u001b[1;33m,\u001b[0m \u001b[0maxis\u001b[0m\u001b[1;33m=\u001b[0m\u001b[1;36m1\u001b[0m\u001b[1;33m,\u001b[0m \u001b[0minplace\u001b[0m\u001b[1;33m=\u001b[0m\u001b[1;32mTrue\u001b[0m\u001b[1;33m)\u001b[0m\u001b[1;33m\u001b[0m\u001b[1;33m\u001b[0m\u001b[0m\n\u001b[0m",
      "\u001b[1;32mc:\\Users\\Ezekiel Adebayo\\anaconda3\\lib\\site-packages\\pandas\\util\\_decorators.py\u001b[0m in \u001b[0;36mwrapper\u001b[1;34m(*args, **kwargs)\u001b[0m\n\u001b[0;32m    309\u001b[0m                     \u001b[0mstacklevel\u001b[0m\u001b[1;33m=\u001b[0m\u001b[0mstacklevel\u001b[0m\u001b[1;33m,\u001b[0m\u001b[1;33m\u001b[0m\u001b[1;33m\u001b[0m\u001b[0m\n\u001b[0;32m    310\u001b[0m                 )\n\u001b[1;32m--> 311\u001b[1;33m             \u001b[1;32mreturn\u001b[0m \u001b[0mfunc\u001b[0m\u001b[1;33m(\u001b[0m\u001b[1;33m*\u001b[0m\u001b[0margs\u001b[0m\u001b[1;33m,\u001b[0m \u001b[1;33m**\u001b[0m\u001b[0mkwargs\u001b[0m\u001b[1;33m)\u001b[0m\u001b[1;33m\u001b[0m\u001b[1;33m\u001b[0m\u001b[0m\n\u001b[0m\u001b[0;32m    312\u001b[0m \u001b[1;33m\u001b[0m\u001b[0m\n\u001b[0;32m    313\u001b[0m         \u001b[1;32mreturn\u001b[0m \u001b[0mwrapper\u001b[0m\u001b[1;33m\u001b[0m\u001b[1;33m\u001b[0m\u001b[0m\n",
      "\u001b[1;32mc:\\Users\\Ezekiel Adebayo\\anaconda3\\lib\\site-packages\\pandas\\core\\frame.py\u001b[0m in \u001b[0;36mdrop\u001b[1;34m(self, labels, axis, index, columns, level, inplace, errors)\u001b[0m\n\u001b[0;32m   4955\u001b[0m                 \u001b[0mweight\u001b[0m  \u001b[1;36m1.0\u001b[0m     \u001b[1;36m0.8\u001b[0m\u001b[1;33m\u001b[0m\u001b[1;33m\u001b[0m\u001b[0m\n\u001b[0;32m   4956\u001b[0m         \"\"\"\n\u001b[1;32m-> 4957\u001b[1;33m         return super().drop(\n\u001b[0m\u001b[0;32m   4958\u001b[0m             \u001b[0mlabels\u001b[0m\u001b[1;33m=\u001b[0m\u001b[0mlabels\u001b[0m\u001b[1;33m,\u001b[0m\u001b[1;33m\u001b[0m\u001b[1;33m\u001b[0m\u001b[0m\n\u001b[0;32m   4959\u001b[0m             \u001b[0maxis\u001b[0m\u001b[1;33m=\u001b[0m\u001b[0maxis\u001b[0m\u001b[1;33m,\u001b[0m\u001b[1;33m\u001b[0m\u001b[1;33m\u001b[0m\u001b[0m\n",
      "\u001b[1;32mc:\\Users\\Ezekiel Adebayo\\anaconda3\\lib\\site-packages\\pandas\\core\\generic.py\u001b[0m in \u001b[0;36mdrop\u001b[1;34m(self, labels, axis, index, columns, level, inplace, errors)\u001b[0m\n\u001b[0;32m   4265\u001b[0m         \u001b[1;32mfor\u001b[0m \u001b[0maxis\u001b[0m\u001b[1;33m,\u001b[0m \u001b[0mlabels\u001b[0m \u001b[1;32min\u001b[0m \u001b[0maxes\u001b[0m\u001b[1;33m.\u001b[0m\u001b[0mitems\u001b[0m\u001b[1;33m(\u001b[0m\u001b[1;33m)\u001b[0m\u001b[1;33m:\u001b[0m\u001b[1;33m\u001b[0m\u001b[1;33m\u001b[0m\u001b[0m\n\u001b[0;32m   4266\u001b[0m             \u001b[1;32mif\u001b[0m \u001b[0mlabels\u001b[0m \u001b[1;32mis\u001b[0m \u001b[1;32mnot\u001b[0m \u001b[1;32mNone\u001b[0m\u001b[1;33m:\u001b[0m\u001b[1;33m\u001b[0m\u001b[1;33m\u001b[0m\u001b[0m\n\u001b[1;32m-> 4267\u001b[1;33m                 \u001b[0mobj\u001b[0m \u001b[1;33m=\u001b[0m \u001b[0mobj\u001b[0m\u001b[1;33m.\u001b[0m\u001b[0m_drop_axis\u001b[0m\u001b[1;33m(\u001b[0m\u001b[0mlabels\u001b[0m\u001b[1;33m,\u001b[0m \u001b[0maxis\u001b[0m\u001b[1;33m,\u001b[0m \u001b[0mlevel\u001b[0m\u001b[1;33m=\u001b[0m\u001b[0mlevel\u001b[0m\u001b[1;33m,\u001b[0m \u001b[0merrors\u001b[0m\u001b[1;33m=\u001b[0m\u001b[0merrors\u001b[0m\u001b[1;33m)\u001b[0m\u001b[1;33m\u001b[0m\u001b[1;33m\u001b[0m\u001b[0m\n\u001b[0m\u001b[0;32m   4268\u001b[0m \u001b[1;33m\u001b[0m\u001b[0m\n\u001b[0;32m   4269\u001b[0m         \u001b[1;32mif\u001b[0m \u001b[0minplace\u001b[0m\u001b[1;33m:\u001b[0m\u001b[1;33m\u001b[0m\u001b[1;33m\u001b[0m\u001b[0m\n",
      "\u001b[1;32mc:\\Users\\Ezekiel Adebayo\\anaconda3\\lib\\site-packages\\pandas\\core\\generic.py\u001b[0m in \u001b[0;36m_drop_axis\u001b[1;34m(self, labels, axis, level, errors, consolidate, only_slice)\u001b[0m\n\u001b[0;32m   4309\u001b[0m                 \u001b[0mnew_axis\u001b[0m \u001b[1;33m=\u001b[0m \u001b[0maxis\u001b[0m\u001b[1;33m.\u001b[0m\u001b[0mdrop\u001b[0m\u001b[1;33m(\u001b[0m\u001b[0mlabels\u001b[0m\u001b[1;33m,\u001b[0m \u001b[0mlevel\u001b[0m\u001b[1;33m=\u001b[0m\u001b[0mlevel\u001b[0m\u001b[1;33m,\u001b[0m \u001b[0merrors\u001b[0m\u001b[1;33m=\u001b[0m\u001b[0merrors\u001b[0m\u001b[1;33m)\u001b[0m\u001b[1;33m\u001b[0m\u001b[1;33m\u001b[0m\u001b[0m\n\u001b[0;32m   4310\u001b[0m             \u001b[1;32melse\u001b[0m\u001b[1;33m:\u001b[0m\u001b[1;33m\u001b[0m\u001b[1;33m\u001b[0m\u001b[0m\n\u001b[1;32m-> 4311\u001b[1;33m                 \u001b[0mnew_axis\u001b[0m \u001b[1;33m=\u001b[0m \u001b[0maxis\u001b[0m\u001b[1;33m.\u001b[0m\u001b[0mdrop\u001b[0m\u001b[1;33m(\u001b[0m\u001b[0mlabels\u001b[0m\u001b[1;33m,\u001b[0m \u001b[0merrors\u001b[0m\u001b[1;33m=\u001b[0m\u001b[0merrors\u001b[0m\u001b[1;33m)\u001b[0m\u001b[1;33m\u001b[0m\u001b[1;33m\u001b[0m\u001b[0m\n\u001b[0m\u001b[0;32m   4312\u001b[0m             \u001b[0mindexer\u001b[0m \u001b[1;33m=\u001b[0m \u001b[0maxis\u001b[0m\u001b[1;33m.\u001b[0m\u001b[0mget_indexer\u001b[0m\u001b[1;33m(\u001b[0m\u001b[0mnew_axis\u001b[0m\u001b[1;33m)\u001b[0m\u001b[1;33m\u001b[0m\u001b[1;33m\u001b[0m\u001b[0m\n\u001b[0;32m   4313\u001b[0m \u001b[1;33m\u001b[0m\u001b[0m\n",
      "\u001b[1;32mc:\\Users\\Ezekiel Adebayo\\anaconda3\\lib\\site-packages\\pandas\\core\\indexes\\base.py\u001b[0m in \u001b[0;36mdrop\u001b[1;34m(self, labels, errors)\u001b[0m\n\u001b[0;32m   6659\u001b[0m         \u001b[1;32mif\u001b[0m \u001b[0mmask\u001b[0m\u001b[1;33m.\u001b[0m\u001b[0many\u001b[0m\u001b[1;33m(\u001b[0m\u001b[1;33m)\u001b[0m\u001b[1;33m:\u001b[0m\u001b[1;33m\u001b[0m\u001b[1;33m\u001b[0m\u001b[0m\n\u001b[0;32m   6660\u001b[0m             \u001b[1;32mif\u001b[0m \u001b[0merrors\u001b[0m \u001b[1;33m!=\u001b[0m \u001b[1;34m\"ignore\"\u001b[0m\u001b[1;33m:\u001b[0m\u001b[1;33m\u001b[0m\u001b[1;33m\u001b[0m\u001b[0m\n\u001b[1;32m-> 6661\u001b[1;33m                 \u001b[1;32mraise\u001b[0m \u001b[0mKeyError\u001b[0m\u001b[1;33m(\u001b[0m\u001b[1;34mf\"{list(labels[mask])} not found in axis\"\u001b[0m\u001b[1;33m)\u001b[0m\u001b[1;33m\u001b[0m\u001b[1;33m\u001b[0m\u001b[0m\n\u001b[0m\u001b[0;32m   6662\u001b[0m             \u001b[0mindexer\u001b[0m \u001b[1;33m=\u001b[0m \u001b[0mindexer\u001b[0m\u001b[1;33m[\u001b[0m\u001b[1;33m~\u001b[0m\u001b[0mmask\u001b[0m\u001b[1;33m]\u001b[0m\u001b[1;33m\u001b[0m\u001b[1;33m\u001b[0m\u001b[0m\n\u001b[0;32m   6663\u001b[0m         \u001b[1;32mreturn\u001b[0m \u001b[0mself\u001b[0m\u001b[1;33m.\u001b[0m\u001b[0mdelete\u001b[0m\u001b[1;33m(\u001b[0m\u001b[0mindexer\u001b[0m\u001b[1;33m)\u001b[0m\u001b[1;33m\u001b[0m\u001b[1;33m\u001b[0m\u001b[0m\n",
      "\u001b[1;31mKeyError\u001b[0m: \"['systemloanid', 'referredby'] not found in axis\""
     ]
    }
   ],
   "source": [
    "X.drop(['systemloanid','referredby'], axis=1, inplace=True)"
   ]
  },
  {
   "cell_type": "code",
   "execution_count": 36,
   "id": "ac792003-0348-47bb-ae08-9d03ace487c1",
   "metadata": {
    "tags": []
   },
   "outputs": [
    {
     "data": {
      "text/plain": [
       "0.764525993883792"
      ]
     },
     "execution_count": 36,
     "metadata": {},
     "output_type": "execute_result"
    }
   ],
   "source": [
    "from sklearn.model_selection import train_test_split\n",
    "from sklearn.ensemble import RandomForestClassifier\n",
    "\n",
    "# Split the data into training and testing sets\n",
    "X_train, X_test, y_train, y_test = train_test_split(X, y, test_size=0.2, random_state=42)\n",
    "\n",
    "# Create the classifier and fit it to the training data\n",
    "clf = RandomForestClassifier(n_estimators=100)\n",
    "clf.fit(X_train, y_train)\n",
    "\n",
    "# Predict on the test data and calculate accuracy\n",
    "y_pred = clf.predict(X_test)\n",
    "clf.score(X_test, y_test)"
   ]
  },
  {
   "cell_type": "code",
   "execution_count": 39,
   "id": "4808b78e",
   "metadata": {},
   "outputs": [],
   "source": [
    "importances = clf.feature_importances_\n",
    "\n",
    "# Create a dataframe to store feature names and importances\n",
    "feature_importances = pd.DataFrame({'Feature': X.columns, 'Importance': importances})\n",
    "\n",
    "feature_importances = feature_importances.sort_values(by='Importance', ascending=False)"
   ]
  },
  {
   "cell_type": "code",
   "execution_count": 40,
   "id": "af086838",
   "metadata": {},
   "outputs": [
    {
     "data": {
      "text/html": [
       "<div>\n",
       "<style scoped>\n",
       "    .dataframe tbody tr th:only-of-type {\n",
       "        vertical-align: middle;\n",
       "    }\n",
       "\n",
       "    .dataframe tbody tr th {\n",
       "        vertical-align: top;\n",
       "    }\n",
       "\n",
       "    .dataframe thead th {\n",
       "        text-align: right;\n",
       "    }\n",
       "</style>\n",
       "<table border=\"1\" class=\"dataframe\">\n",
       "  <thead>\n",
       "    <tr style=\"text-align: right;\">\n",
       "      <th></th>\n",
       "      <th>Feature</th>\n",
       "      <th>Importance</th>\n",
       "    </tr>\n",
       "  </thead>\n",
       "  <tbody>\n",
       "    <tr>\n",
       "      <th>4</th>\n",
       "      <td>birthdate</td>\n",
       "      <td>0.161873</td>\n",
       "    </tr>\n",
       "    <tr>\n",
       "      <th>7</th>\n",
       "      <td>latitude_gps</td>\n",
       "      <td>0.156128</td>\n",
       "    </tr>\n",
       "    <tr>\n",
       "      <th>6</th>\n",
       "      <td>longitude_gps</td>\n",
       "      <td>0.153510</td>\n",
       "    </tr>\n",
       "    <tr>\n",
       "      <th>8</th>\n",
       "      <td>bank_name_clients</td>\n",
       "      <td>0.085015</td>\n",
       "    </tr>\n",
       "    <tr>\n",
       "      <th>0</th>\n",
       "      <td>loannumber</td>\n",
       "      <td>0.066196</td>\n",
       "    </tr>\n",
       "    <tr>\n",
       "      <th>14</th>\n",
       "      <td>approved_day</td>\n",
       "      <td>0.059553</td>\n",
       "    </tr>\n",
       "    <tr>\n",
       "      <th>19</th>\n",
       "      <td>creation_day</td>\n",
       "      <td>0.056429</td>\n",
       "    </tr>\n",
       "    <tr>\n",
       "      <th>15</th>\n",
       "      <td>approved_dayofweek</td>\n",
       "      <td>0.039194</td>\n",
       "    </tr>\n",
       "    <tr>\n",
       "      <th>20</th>\n",
       "      <td>creation_dayofweek</td>\n",
       "      <td>0.037835</td>\n",
       "    </tr>\n",
       "    <tr>\n",
       "      <th>2</th>\n",
       "      <td>totaldue</td>\n",
       "      <td>0.028099</td>\n",
       "    </tr>\n",
       "    <tr>\n",
       "      <th>22</th>\n",
       "      <td>amount_due_ratio</td>\n",
       "      <td>0.023392</td>\n",
       "    </tr>\n",
       "    <tr>\n",
       "      <th>21</th>\n",
       "      <td>creation_weekofyear</td>\n",
       "      <td>0.019180</td>\n",
       "    </tr>\n",
       "    <tr>\n",
       "      <th>16</th>\n",
       "      <td>approved_weekofyear</td>\n",
       "      <td>0.018430</td>\n",
       "    </tr>\n",
       "    <tr>\n",
       "      <th>10</th>\n",
       "      <td>employment_status_clients</td>\n",
       "      <td>0.016572</td>\n",
       "    </tr>\n",
       "    <tr>\n",
       "      <th>5</th>\n",
       "      <td>bank_account_type</td>\n",
       "      <td>0.014919</td>\n",
       "    </tr>\n",
       "    <tr>\n",
       "      <th>1</th>\n",
       "      <td>loanamount</td>\n",
       "      <td>0.012848</td>\n",
       "    </tr>\n",
       "    <tr>\n",
       "      <th>23</th>\n",
       "      <td>avg_loan_amount</td>\n",
       "      <td>0.012523</td>\n",
       "    </tr>\n",
       "    <tr>\n",
       "      <th>24</th>\n",
       "      <td>avg_loan_term</td>\n",
       "      <td>0.012085</td>\n",
       "    </tr>\n",
       "    <tr>\n",
       "      <th>3</th>\n",
       "      <td>termdays</td>\n",
       "      <td>0.011895</td>\n",
       "    </tr>\n",
       "    <tr>\n",
       "      <th>11</th>\n",
       "      <td>level_of_education_clients</td>\n",
       "      <td>0.007763</td>\n",
       "    </tr>\n",
       "    <tr>\n",
       "      <th>9</th>\n",
       "      <td>bank_branch_clients</td>\n",
       "      <td>0.006560</td>\n",
       "    </tr>\n",
       "    <tr>\n",
       "      <th>18</th>\n",
       "      <td>creation_month</td>\n",
       "      <td>0.000000</td>\n",
       "    </tr>\n",
       "    <tr>\n",
       "      <th>17</th>\n",
       "      <td>creation_year</td>\n",
       "      <td>0.000000</td>\n",
       "    </tr>\n",
       "    <tr>\n",
       "      <th>13</th>\n",
       "      <td>approved_month</td>\n",
       "      <td>0.000000</td>\n",
       "    </tr>\n",
       "    <tr>\n",
       "      <th>12</th>\n",
       "      <td>approved_year</td>\n",
       "      <td>0.000000</td>\n",
       "    </tr>\n",
       "  </tbody>\n",
       "</table>\n",
       "</div>"
      ],
      "text/plain": [
       "                       Feature  Importance\n",
       "4                    birthdate    0.161873\n",
       "7                 latitude_gps    0.156128\n",
       "6                longitude_gps    0.153510\n",
       "8            bank_name_clients    0.085015\n",
       "0                   loannumber    0.066196\n",
       "14                approved_day    0.059553\n",
       "19                creation_day    0.056429\n",
       "15          approved_dayofweek    0.039194\n",
       "20          creation_dayofweek    0.037835\n",
       "2                     totaldue    0.028099\n",
       "22            amount_due_ratio    0.023392\n",
       "21         creation_weekofyear    0.019180\n",
       "16         approved_weekofyear    0.018430\n",
       "10   employment_status_clients    0.016572\n",
       "5            bank_account_type    0.014919\n",
       "1                   loanamount    0.012848\n",
       "23             avg_loan_amount    0.012523\n",
       "24               avg_loan_term    0.012085\n",
       "3                     termdays    0.011895\n",
       "11  level_of_education_clients    0.007763\n",
       "9          bank_branch_clients    0.006560\n",
       "18              creation_month    0.000000\n",
       "17               creation_year    0.000000\n",
       "13              approved_month    0.000000\n",
       "12               approved_year    0.000000"
      ]
     },
     "execution_count": 40,
     "metadata": {},
     "output_type": "execute_result"
    }
   ],
   "source": [
    "feature_importances"
   ]
  },
  {
   "cell_type": "code",
   "execution_count": 119,
   "id": "6d0aa9de-1e58-4a16-a094-67537af67609",
   "metadata": {},
   "outputs": [],
   "source": [
    "# Get feature importances\n",
    "importances = clf.feature_importances_\n",
    "\n",
    "# Create a dataframe to store feature names and importances\n",
    "feature_importances = pd.DataFrame({'Feature': X.columns, 'Importance': importances})\n",
    "\n",
    "# Sort the features by importance in descending order\n",
    "feature_importances = feature_importances.sort_values(by='Importance', ascending=False)\n",
    "\n",
    "# Select top N important features (e.g., top 10)\n",
    "selected_features = feature_importances['Feature'][:10].tolist()\n",
    "\n",
    "# Subset the dataset with the selected features\n",
    "X_selected = X[selected_features]\n"
   ]
  },
  {
   "cell_type": "code",
   "execution_count": 120,
   "id": "c34686e1-344e-47cf-a4f8-fbd030ff6b27",
   "metadata": {},
   "outputs": [
    {
     "data": {
      "text/plain": [
       "Index(['birthdate', 'longitude_gps', 'latitude_gps', 'bank_name_clients',\n",
       "       'loannumber', 'approved_day', 'creation_day', 'creation_dayofweek',\n",
       "       'approved_dayofweek', 'totaldue'],\n",
       "      dtype='object')"
      ]
     },
     "execution_count": 120,
     "metadata": {},
     "output_type": "execute_result"
    }
   ],
   "source": [
    "X_selected.columns"
   ]
  },
  {
   "cell_type": "code",
   "execution_count": 121,
   "id": "4aea726d-11f1-4808-ab70-fb6ad8b69838",
   "metadata": {},
   "outputs": [
    {
     "name": "stdout",
     "output_type": "stream",
     "text": [
      "Accuracy: 0.7584097859327217\n"
     ]
    }
   ],
   "source": [
    "from sklearn.model_selection import train_test_split\n",
    "from sklearn.ensemble import RandomForestClassifier\n",
    "\n",
    "# Subset the dataset with the selected important features\n",
    "X_selected = X[selected_features]\n",
    "\n",
    "# Split the data into training and testing sets\n",
    "X_train, X_test, y_train, y_test = train_test_split(X_selected, y, test_size=0.2, random_state=42)\n",
    "\n",
    "# Create the classifier and fit it to the training data\n",
    "clf = RandomForestClassifier(n_estimators=100)\n",
    "clf.fit(X_train, y_train)\n",
    "\n",
    "# Predict on the test data and calculate accuracy\n",
    "y_pred = clf.predict(X_test)\n",
    "accuracy = clf.score(X_test, y_test)\n",
    "\n",
    "print(\"Accuracy:\", accuracy)"
   ]
  },
  {
   "cell_type": "code",
   "execution_count": 122,
   "id": "8d870b3f-c83c-4ff3-a75a-5e80e230561d",
   "metadata": {},
   "outputs": [
    {
     "data": {
      "text/plain": [
       "['../deployment/credit_risk_model.pkl']"
      ]
     },
     "execution_count": 122,
     "metadata": {},
     "output_type": "execute_result"
    }
   ],
   "source": [
    "import joblib\n",
    "\n",
    "# Save the trained model\n",
    "joblib.dump(clf, '../deployment/credit_risk_model.pkl')"
   ]
  },
  {
   "cell_type": "code",
   "execution_count": 123,
   "id": "ade51b0e-93a6-49da-b331-b6ca6da06c6f",
   "metadata": {},
   "outputs": [
    {
     "name": "stdout",
     "output_type": "stream",
     "text": [
      "              precision    recall  f1-score   support\n",
      "\n",
      "           0       0.20      0.01      0.02       152\n",
      "           1       0.77      0.98      0.86       502\n",
      "\n",
      "    accuracy                           0.76       654\n",
      "   macro avg       0.48      0.50      0.44       654\n",
      "weighted avg       0.64      0.76      0.67       654\n",
      "\n"
     ]
    }
   ],
   "source": [
    "print(classification_report(y_test, y_pred))"
   ]
  },
  {
   "cell_type": "code",
   "execution_count": 124,
   "id": "a7dc77b1-60c3-4576-98da-dbad9495c0c4",
   "metadata": {},
   "outputs": [
    {
     "data": {
      "text/plain": [
       "0.6666666666666666"
      ]
     },
     "execution_count": 124,
     "metadata": {},
     "output_type": "execute_result"
    }
   ],
   "source": [
    "decisionTree = DecisionTreeClassifier(criterion='entropy')\n",
    "dtc_model = decisionTree.fit(X_train, y_train)\n",
    "prediction = dtc_model.predict(X_test)\n",
    "dtc_model.score(X_test, y_test)"
   ]
  },
  {
   "cell_type": "code",
   "execution_count": 125,
   "id": "4d3b5c28-f20b-4ff0-b548-be6f1191dc4a",
   "metadata": {
    "tags": []
   },
   "outputs": [
    {
     "data": {
      "text/plain": [
       "<sklearn.metrics._plot.confusion_matrix.ConfusionMatrixDisplay at 0x1b2c44a39a0>"
      ]
     },
     "execution_count": 125,
     "metadata": {},
     "output_type": "execute_result"
    },
    {
     "data": {
      "image/png": "[encoded data removed]",
      "text/plain": [
       "<Figure size 640x480 with 2 Axes>"
      ]
     },
     "metadata": {},
     "output_type": "display_data"
    }
   ],
   "source": [
    "cm = confusion_matrix(y_test, prediction)\n",
    "ConfusionMatrixDisplay(cm).plot()"
   ]
  },
  {
   "cell_type": "code",
   "execution_count": 126,
   "id": "d079fcb4-9a27-4932-bc2f-1c6c3c5f027e",
   "metadata": {},
   "outputs": [
    {
     "name": "stdout",
     "output_type": "stream",
     "text": [
      "              precision    recall  f1-score   support\n",
      "\n",
      "           0       0.28      0.27      0.27       152\n",
      "           1       0.78      0.79      0.78       502\n",
      "\n",
      "    accuracy                           0.67       654\n",
      "   macro avg       0.53      0.53      0.53       654\n",
      "weighted avg       0.66      0.67      0.67       654\n",
      "\n"
     ]
    }
   ],
   "source": [
    "print(classification_report(y_test, prediction))"
   ]
  },
  {
   "cell_type": "code",
   "execution_count": 127,
   "id": "f02570ea-3e6f-43d5-85e9-bf1a72552f45",
   "metadata": {},
   "outputs": [
    {
     "data": {
      "text/plain": [
       "0.7675840978593272"
      ]
     },
     "execution_count": 127,
     "metadata": {},
     "output_type": "execute_result"
    }
   ],
   "source": [
    "from sklearn.naive_bayes import GaussianNB\n",
    "modelGNB = GaussianNB()\n",
    "modelGNB.fit(X_train, y_train)\n",
    "prediction = modelGNB.predict(X_test)\n",
    "modelGNB.score(X_test, y_test)"
   ]
  },
  {
   "cell_type": "code",
   "execution_count": 128,
   "id": "917c5605-4b88-4a78-9fe7-c87d9b6bce75",
   "metadata": {},
   "outputs": [
    {
     "data": {
      "text/plain": [
       "<sklearn.metrics._plot.confusion_matrix.ConfusionMatrixDisplay at 0x1b2c4062be0>"
      ]
     },
     "execution_count": 128,
     "metadata": {},
     "output_type": "execute_result"
    },
    {
     "data": {
      "image/png": "[encoded data removed]",
      "text/plain": [
       "<Figure size 640x480 with 2 Axes>"
      ]
     },
     "metadata": {},
     "output_type": "display_data"
    }
   ],
   "source": [
    "cm = confusion_matrix(y_test, prediction)\n",
    "ConfusionMatrixDisplay(cm).plot()"
   ]
  },
  {
   "cell_type": "code",
   "execution_count": 129,
   "id": "2363dbf8-a290-4122-b2a3-6e1a79cbb6d2",
   "metadata": {},
   "outputs": [
    {
     "name": "stdout",
     "output_type": "stream",
     "text": [
      "              precision    recall  f1-score   support\n",
      "\n",
      "           0       0.50      0.01      0.03       152\n",
      "           1       0.77      1.00      0.87       502\n",
      "\n",
      "    accuracy                           0.77       654\n",
      "   macro avg       0.63      0.50      0.45       654\n",
      "weighted avg       0.71      0.77      0.67       654\n",
      "\n"
     ]
    }
   ],
   "source": [
    "# classification report on test dataset\n",
    "classif_re = classification_report(y_test,prediction)\n",
    "print(classif_re)"
   ]
  },
  {
   "cell_type": "code",
   "execution_count": 130,
   "id": "ca086191-1397-4b3f-ba25-543a50302a99",
   "metadata": {},
   "outputs": [
    {
     "data": {
      "text/plain": [
       "0.764525993883792"
      ]
     },
     "execution_count": 130,
     "metadata": {},
     "output_type": "execute_result"
    }
   ],
   "source": [
    "from sklearn.ensemble import GradientBoostingClassifier\n",
    "modelGBC = GradientBoostingClassifier()\n",
    "modelGBC.fit(X_train, y_train)\n",
    "modelGBC.score(X_test, y_test)"
   ]
  },
  {
   "cell_type": "code",
   "execution_count": 131,
   "id": "eceaf135-1c29-4f9c-873b-22213c67f6af",
   "metadata": {},
   "outputs": [
    {
     "data": {
      "text/html": [
       "<div>\n",
       "<style scoped>\n",
       "    .dataframe tbody tr th:only-of-type {\n",
       "        vertical-align: middle;\n",
       "    }\n",
       "\n",
       "    .dataframe tbody tr th {\n",
       "        vertical-align: top;\n",
       "    }\n",
       "\n",
       "    .dataframe thead th {\n",
       "        text-align: right;\n",
       "    }\n",
       "</style>\n",
       "<table border=\"1\" class=\"dataframe\">\n",
       "  <thead>\n",
       "    <tr style=\"text-align: right;\">\n",
       "      <th></th>\n",
       "      <th>Model</th>\n",
       "      <th>Score</th>\n",
       "    </tr>\n",
       "  </thead>\n",
       "  <tbody>\n",
       "    <tr>\n",
       "      <th>2</th>\n",
       "      <td>GaussianNB</td>\n",
       "      <td>0.767584</td>\n",
       "    </tr>\n",
       "    <tr>\n",
       "      <th>3</th>\n",
       "      <td>GradientBoostingClassifier</td>\n",
       "      <td>0.764526</td>\n",
       "    </tr>\n",
       "    <tr>\n",
       "      <th>0</th>\n",
       "      <td>RandomForestClassifier</td>\n",
       "      <td>0.758410</td>\n",
       "    </tr>\n",
       "    <tr>\n",
       "      <th>1</th>\n",
       "      <td>DecisionTreeClassifier</td>\n",
       "      <td>0.666667</td>\n",
       "    </tr>\n",
       "  </tbody>\n",
       "</table>\n",
       "</div>"
      ],
      "text/plain": [
       "                        Model     Score\n",
       "2                  GaussianNB  0.767584\n",
       "3  GradientBoostingClassifier  0.764526\n",
       "0      RandomForestClassifier  0.758410\n",
       "1      DecisionTreeClassifier  0.666667"
      ]
     },
     "execution_count": 131,
     "metadata": {},
     "output_type": "execute_result"
    }
   ],
   "source": [
    "#make table to compare model's scores\n",
    "models = [clf, dtc_model, modelGNB, modelGBC]\n",
    "scores = {\"Model\":[],\"Score\":[]}\n",
    "\n",
    "for m in models:\n",
    "    scores[\"Model\"].append(f'{m}'.split('(')[0])\n",
    "    scores[\"Score\"].append(m.score(X_test, y_test))\n",
    "    \n",
    "scoress = pd.DataFrame(scores).sort_values(by='Score', ascending=False)\n",
    "scoress"
   ]
  }
 ],
 "metadata": {
  "kernelspec": {
   "display_name": "Python 3 (ipykernel)",
   "language": "python",
   "name": "python3"
  },
  "language_info": {
   "codemirror_mode": {
    "name": "ipython",
    "version": 3
   },
   "file_extension": ".py",
   "mimetype": "text/x-python",
   "name": "python",
   "nbconvert_exporter": "python",
   "pygments_lexer": "ipython3",
   "version": "3.9.13"
  }
 },
 "nbformat": 4,
 "nbformat_minor": 5
}
